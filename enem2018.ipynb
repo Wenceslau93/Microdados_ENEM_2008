{
 "cells": [
  {
   "cell_type": "markdown",
   "metadata": {},
   "source": [
    "# Microdados do ENEM de 2008\n",
    "\n",
    "<br/>\n",
    "\n",
    "O MICRODADOS ENEM 2008, contém informações relativas à caracterização do candidato; caracterização da escola frequentada pelo candidato; nota das Provas Objetivas, nota da Redação – global e por competências, respostas das Provas Objetivas, gabaritos das Provas Objetivas e questionário Socioeconômico.\n",
    "\n",
    "O objetivo do modelo, é realizar uma analise exploratória deste dataset, afim de encontrar informações valiosas, realizar perguntas e encontrar respostas."
   ]
  },
  {
   "cell_type": "code",
   "execution_count": 4,
   "metadata": {},
   "outputs": [],
   "source": [
    "#Importando pandas\n",
    "\n",
    "import pandas as pd"
   ]
  },
  {
   "cell_type": "code",
   "execution_count": 5,
   "metadata": {},
   "outputs": [],
   "source": [
    "#Carregando o dataset, vamos selecionar 100000 devido ao grande tamanho que é o dataset \n",
    "\n",
    "df = pd.read_csv(\"Dados/MICRODADOS_ENEM_2008.csv\", sep = \";\", nrows = 100000, encoding = 'ISO-8859-1')"
   ]
  },
  {
   "cell_type": "code",
   "execution_count": 6,
   "metadata": {},
   "outputs": [
    {
     "data": {
      "text/html": [
       "<div>\n",
       "<style scoped>\n",
       "    .dataframe tbody tr th:only-of-type {\n",
       "        vertical-align: middle;\n",
       "    }\n",
       "\n",
       "    .dataframe tbody tr th {\n",
       "        vertical-align: top;\n",
       "    }\n",
       "\n",
       "    .dataframe thead th {\n",
       "        text-align: right;\n",
       "    }\n",
       "</style>\n",
       "<table border=\"1\" class=\"dataframe\">\n",
       "  <thead>\n",
       "    <tr style=\"text-align: right;\">\n",
       "      <th></th>\n",
       "      <th>NU_INSCRICAO</th>\n",
       "      <th>NU_ANO</th>\n",
       "      <th>NU_IDADE</th>\n",
       "      <th>TP_SEXO</th>\n",
       "      <th>CO_MUNICIPIO_RESIDENCIA</th>\n",
       "      <th>NO_MUNICIPIO_RESIDENCIA</th>\n",
       "      <th>CO_UF_RESIDENCIA</th>\n",
       "      <th>SG_UF_RESIDENCIA</th>\n",
       "      <th>TP_ST_CONCLUSAO</th>\n",
       "      <th>TP_ENSINO</th>\n",
       "      <th>...</th>\n",
       "      <th>Q214</th>\n",
       "      <th>Q215</th>\n",
       "      <th>Q216</th>\n",
       "      <th>Q217</th>\n",
       "      <th>Q218</th>\n",
       "      <th>Q219</th>\n",
       "      <th>Q220</th>\n",
       "      <th>Q221</th>\n",
       "      <th>Q222</th>\n",
       "      <th>Q223</th>\n",
       "    </tr>\n",
       "  </thead>\n",
       "  <tbody>\n",
       "    <tr>\n",
       "      <th>0</th>\n",
       "      <td>200800000016</td>\n",
       "      <td>2008</td>\n",
       "      <td>27.0</td>\n",
       "      <td>M</td>\n",
       "      <td>3104304.0</td>\n",
       "      <td>AREADO</td>\n",
       "      <td>31</td>\n",
       "      <td>MG</td>\n",
       "      <td>1.0</td>\n",
       "      <td>1.0</td>\n",
       "      <td>...</td>\n",
       "      <td>B</td>\n",
       "      <td>B</td>\n",
       "      <td>A</td>\n",
       "      <td>A</td>\n",
       "      <td>B</td>\n",
       "      <td>B</td>\n",
       "      <td>A</td>\n",
       "      <td>A</td>\n",
       "      <td>B</td>\n",
       "      <td>A</td>\n",
       "    </tr>\n",
       "    <tr>\n",
       "      <th>1</th>\n",
       "      <td>200800000024</td>\n",
       "      <td>2008</td>\n",
       "      <td>17.0</td>\n",
       "      <td>F</td>\n",
       "      <td>4213708.0</td>\n",
       "      <td>POUSO REDONDO</td>\n",
       "      <td>42</td>\n",
       "      <td>SC</td>\n",
       "      <td>2.0</td>\n",
       "      <td>1.0</td>\n",
       "      <td>...</td>\n",
       "      <td>.</td>\n",
       "      <td>.</td>\n",
       "      <td>.</td>\n",
       "      <td>.</td>\n",
       "      <td>.</td>\n",
       "      <td>.</td>\n",
       "      <td>.</td>\n",
       "      <td>.</td>\n",
       "      <td>.</td>\n",
       "      <td>.</td>\n",
       "    </tr>\n",
       "    <tr>\n",
       "      <th>2</th>\n",
       "      <td>200800000032</td>\n",
       "      <td>2008</td>\n",
       "      <td>18.0</td>\n",
       "      <td>F</td>\n",
       "      <td>3137809.0</td>\n",
       "      <td>LAMBARI</td>\n",
       "      <td>31</td>\n",
       "      <td>MG</td>\n",
       "      <td>2.0</td>\n",
       "      <td>1.0</td>\n",
       "      <td>...</td>\n",
       "      <td>NaN</td>\n",
       "      <td>NaN</td>\n",
       "      <td>NaN</td>\n",
       "      <td>NaN</td>\n",
       "      <td>NaN</td>\n",
       "      <td>NaN</td>\n",
       "      <td>NaN</td>\n",
       "      <td>NaN</td>\n",
       "      <td>NaN</td>\n",
       "      <td>NaN</td>\n",
       "    </tr>\n",
       "    <tr>\n",
       "      <th>3</th>\n",
       "      <td>200800000040</td>\n",
       "      <td>2008</td>\n",
       "      <td>17.0</td>\n",
       "      <td>F</td>\n",
       "      <td>2208007.0</td>\n",
       "      <td>PICOS</td>\n",
       "      <td>22</td>\n",
       "      <td>PI</td>\n",
       "      <td>2.0</td>\n",
       "      <td>1.0</td>\n",
       "      <td>...</td>\n",
       "      <td>.</td>\n",
       "      <td>.</td>\n",
       "      <td>.</td>\n",
       "      <td>.</td>\n",
       "      <td>.</td>\n",
       "      <td>.</td>\n",
       "      <td>.</td>\n",
       "      <td>.</td>\n",
       "      <td>.</td>\n",
       "      <td>.</td>\n",
       "    </tr>\n",
       "    <tr>\n",
       "      <th>4</th>\n",
       "      <td>200800000059</td>\n",
       "      <td>2008</td>\n",
       "      <td>19.0</td>\n",
       "      <td>F</td>\n",
       "      <td>3137809.0</td>\n",
       "      <td>LAMBARI</td>\n",
       "      <td>31</td>\n",
       "      <td>MG</td>\n",
       "      <td>2.0</td>\n",
       "      <td>1.0</td>\n",
       "      <td>...</td>\n",
       "      <td>.</td>\n",
       "      <td>.</td>\n",
       "      <td>.</td>\n",
       "      <td>.</td>\n",
       "      <td>.</td>\n",
       "      <td>.</td>\n",
       "      <td>.</td>\n",
       "      <td>.</td>\n",
       "      <td>.</td>\n",
       "      <td>.</td>\n",
       "    </tr>\n",
       "  </tbody>\n",
       "</table>\n",
       "<p>5 rows × 263 columns</p>\n",
       "</div>"
      ],
      "text/plain": [
       "   NU_INSCRICAO  NU_ANO  NU_IDADE TP_SEXO  CO_MUNICIPIO_RESIDENCIA  \\\n",
       "0  200800000016    2008      27.0       M                3104304.0   \n",
       "1  200800000024    2008      17.0       F                4213708.0   \n",
       "2  200800000032    2008      18.0       F                3137809.0   \n",
       "3  200800000040    2008      17.0       F                2208007.0   \n",
       "4  200800000059    2008      19.0       F                3137809.0   \n",
       "\n",
       "  NO_MUNICIPIO_RESIDENCIA  CO_UF_RESIDENCIA SG_UF_RESIDENCIA  TP_ST_CONCLUSAO  \\\n",
       "0                  AREADO                31               MG              1.0   \n",
       "1           POUSO REDONDO                42               SC              2.0   \n",
       "2                 LAMBARI                31               MG              2.0   \n",
       "3                   PICOS                22               PI              2.0   \n",
       "4                 LAMBARI                31               MG              2.0   \n",
       "\n",
       "   TP_ENSINO ...   Q214  Q215 Q216  Q217 Q218  Q219  Q220  Q221  Q222 Q223  \n",
       "0        1.0 ...      B     B    A     A    B     B     A     A     B    A  \n",
       "1        1.0 ...      .     .    .     .    .     .     .     .     .    .  \n",
       "2        1.0 ...    NaN   NaN  NaN   NaN  NaN   NaN   NaN   NaN   NaN  NaN  \n",
       "3        1.0 ...      .     .    .     .    .     .     .     .     .    .  \n",
       "4        1.0 ...      .     .    .     .    .     .     .     .     .    .  \n",
       "\n",
       "[5 rows x 263 columns]"
      ]
     },
     "execution_count": 6,
     "metadata": {},
     "output_type": "execute_result"
    }
   ],
   "source": [
    "#Visualizando cabeçalho do dataset\n",
    "\n",
    "df.head()"
   ]
  },
  {
   "cell_type": "code",
   "execution_count": 7,
   "metadata": {},
   "outputs": [
    {
     "data": {
      "text/plain": [
       "(100000, 263)"
      ]
     },
     "execution_count": 7,
     "metadata": {},
     "output_type": "execute_result"
    }
   ],
   "source": [
    "#Mostra a quantidade de linhas e colunas\n",
    "\n",
    "df.shape"
   ]
  },
  {
   "cell_type": "code",
   "execution_count": 8,
   "metadata": {
    "scrolled": true
   },
   "outputs": [
    {
     "data": {
      "text/plain": [
       "array(['NU_INSCRICAO', 'NU_ANO', 'NU_IDADE', 'TP_SEXO',\n",
       "       'CO_MUNICIPIO_RESIDENCIA', 'NO_MUNICIPIO_RESIDENCIA',\n",
       "       'CO_UF_RESIDENCIA', 'SG_UF_RESIDENCIA', 'TP_ST_CONCLUSAO',\n",
       "       'TP_ENSINO', 'CO_ESCOLA', 'CO_MUNICIPIO_ESC', 'NO_MUNICIPIO_ESC',\n",
       "       'CO_UF_ESC', 'SG_UF_ESC', 'TP_DEPENDENCIA_ADM_ESC',\n",
       "       'TP_LOCALIZACAO_ESC', 'TP_SIT_FUNC_ESC', 'CO_MUNICIPIO_PROVA',\n",
       "       'NO_MUNICIPIO_PROVA', 'CO_UF_PROVA', 'SG_UF_PROVA', 'TP_PRESENCA',\n",
       "       'CO_PROVA', 'VL_PERC_COMP1', 'VL_PERC_COMP2', 'VL_PERC_COMP3',\n",
       "       'VL_PERC_COMP4', 'VL_PERC_COMP5', 'NU_NOTA_OBJETIVA',\n",
       "       'TX_RESPOSTAS_OBJETIVA', 'TX_GABARITO_OBJETIVA',\n",
       "       'TP_STATUS_REDACAO', 'NU_NOTA_COMP1', 'NU_NOTA_COMP2',\n",
       "       'NU_NOTA_COMP3', 'NU_NOTA_COMP4', 'NU_NOTA_COMP5',\n",
       "       'NU_NOTA_REDACAO', 'IN_QSE', 'Q1', 'Q2', 'Q3', 'Q4', 'Q5', 'Q6',\n",
       "       'Q7', 'Q8', 'Q9', 'Q10', 'Q11', 'Q12', 'Q13', 'Q14', 'Q15', 'Q16',\n",
       "       'Q17', 'Q18', 'Q19', 'Q20', 'Q21', 'Q22', 'Q23', 'Q24', 'Q25',\n",
       "       'Q26', 'Q27', 'Q28', 'Q29', 'Q30', 'Q31', 'Q32', 'Q33', 'Q34',\n",
       "       'Q35', 'Q36', 'Q37', 'Q38', 'Q39', 'Q40', 'Q41', 'Q42', 'Q43',\n",
       "       'Q44', 'Q45', 'Q46', 'Q47', 'Q48', 'Q49', 'Q50', 'Q51', 'Q52',\n",
       "       'Q53', 'Q54', 'Q55', 'Q56', 'Q57', 'Q58', 'Q59', 'Q60', 'Q61',\n",
       "       'Q62', 'Q63', 'Q64', 'Q65', 'Q66', 'Q67', 'Q68', 'Q69', 'Q70',\n",
       "       'Q71', 'Q72', 'Q73', 'Q74', 'Q75', 'Q76', 'Q77', 'Q78', 'Q79',\n",
       "       'Q80', 'Q81', 'Q82', 'Q83', 'Q84', 'Q85', 'Q86', 'Q87', 'Q88',\n",
       "       'Q89', 'Q90', 'Q91', 'Q92', 'Q93', 'Q94', 'Q95', 'Q96', 'Q97',\n",
       "       'Q98', 'Q99', 'Q100', 'Q101', 'Q102', 'Q103', 'Q104', 'Q105',\n",
       "       'Q106', 'Q107', 'Q108', 'Q109', 'Q110', 'Q111', 'Q112', 'Q113',\n",
       "       'Q114', 'Q115', 'Q116', 'Q117', 'Q118', 'Q119', 'Q120', 'Q121',\n",
       "       'Q122', 'Q123', 'Q124', 'Q125', 'Q126', 'Q127', 'Q128', 'Q129',\n",
       "       'Q130', 'Q131', 'Q132', 'Q133', 'Q134', 'Q135', 'Q136', 'Q137',\n",
       "       'Q138', 'Q139', 'Q140', 'Q141', 'Q142', 'Q143', 'Q144', 'Q145',\n",
       "       'Q146', 'Q147', 'Q148', 'Q149', 'Q150', 'Q151', 'Q152', 'Q153',\n",
       "       'Q154', 'Q155', 'Q156', 'Q157', 'Q158', 'Q159', 'Q160', 'Q161',\n",
       "       'Q162', 'Q163', 'Q164', 'Q165', 'Q166', 'Q167', 'Q168', 'Q169',\n",
       "       'Q170', 'Q171', 'Q172', 'Q173', 'Q174', 'Q175', 'Q176', 'Q177',\n",
       "       'Q178', 'Q179', 'Q180', 'Q181', 'Q182', 'Q183', 'Q184', 'Q185',\n",
       "       'Q186', 'Q187', 'Q188', 'Q189', 'Q190', 'Q191', 'Q192', 'Q193',\n",
       "       'Q194', 'Q195', 'Q196', 'Q197', 'Q198', 'Q199', 'Q200', 'Q201',\n",
       "       'Q202', 'Q203', 'Q204', 'Q205', 'Q206', 'Q207', 'Q208', 'Q209',\n",
       "       'Q210', 'Q211', 'Q212', 'Q213', 'Q214', 'Q215', 'Q216', 'Q217',\n",
       "       'Q218', 'Q219', 'Q220', 'Q221', 'Q222', 'Q223'], dtype=object)"
      ]
     },
     "execution_count": 8,
     "metadata": {},
     "output_type": "execute_result"
    }
   ],
   "source": [
    "#Mostra todas as colunas\n",
    "\n",
    "df.columns.values"
   ]
  },
  {
   "cell_type": "code",
   "execution_count": 9,
   "metadata": {},
   "outputs": [],
   "source": [
    "#Selecionando as colunas\n",
    "\n",
    "colunas = ['NU_IDADE', 'TP_SEXO', 'NO_MUNICIPIO_RESIDENCIA',\n",
    "       'CO_UF_RESIDENCIA', 'SG_UF_RESIDENCIA', 'TP_ST_CONCLUSAO',\n",
    "       'TP_ENSINO', 'CO_ESCOLA', 'CO_MUNICIPIO_ESC', 'NO_MUNICIPIO_ESC',\n",
    "       'CO_UF_ESC', 'SG_UF_ESC', 'TP_DEPENDENCIA_ADM_ESC',\n",
    "       'TP_LOCALIZACAO_ESC', 'TP_SIT_FUNC_ESC', 'CO_MUNICIPIO_PROVA',\n",
    "       'NO_MUNICIPIO_PROVA', 'CO_UF_PROVA', 'SG_UF_PROVA', 'TP_PRESENCA',\n",
    "       'CO_PROVA', 'VL_PERC_COMP1', 'VL_PERC_COMP2', 'VL_PERC_COMP3',\n",
    "       'VL_PERC_COMP4', 'VL_PERC_COMP5', 'NU_NOTA_OBJETIVA',\n",
    "       'TX_RESPOSTAS_OBJETIVA', 'TX_GABARITO_OBJETIVA',\n",
    "       'TP_STATUS_REDACAO', 'NU_NOTA_COMP1', 'NU_NOTA_COMP2',\n",
    "       'NU_NOTA_COMP3', 'NU_NOTA_COMP4', 'NU_NOTA_COMP5',\n",
    "       'NU_NOTA_REDACAO', 'IN_QSE'] "
   ]
  },
  {
   "cell_type": "code",
   "execution_count": 10,
   "metadata": {},
   "outputs": [],
   "source": [
    "#Filtrando as colunas em um novo dataset\n",
    "\n",
    "enem2018 = df.filter(items = colunas)"
   ]
  },
  {
   "cell_type": "code",
   "execution_count": 11,
   "metadata": {},
   "outputs": [
    {
     "data": {
      "text/html": [
       "<div>\n",
       "<style scoped>\n",
       "    .dataframe tbody tr th:only-of-type {\n",
       "        vertical-align: middle;\n",
       "    }\n",
       "\n",
       "    .dataframe tbody tr th {\n",
       "        vertical-align: top;\n",
       "    }\n",
       "\n",
       "    .dataframe thead th {\n",
       "        text-align: right;\n",
       "    }\n",
       "</style>\n",
       "<table border=\"1\" class=\"dataframe\">\n",
       "  <thead>\n",
       "    <tr style=\"text-align: right;\">\n",
       "      <th></th>\n",
       "      <th>NU_IDADE</th>\n",
       "      <th>TP_SEXO</th>\n",
       "      <th>NO_MUNICIPIO_RESIDENCIA</th>\n",
       "      <th>CO_UF_RESIDENCIA</th>\n",
       "      <th>SG_UF_RESIDENCIA</th>\n",
       "      <th>TP_ST_CONCLUSAO</th>\n",
       "      <th>TP_ENSINO</th>\n",
       "      <th>CO_ESCOLA</th>\n",
       "      <th>CO_MUNICIPIO_ESC</th>\n",
       "      <th>NO_MUNICIPIO_ESC</th>\n",
       "      <th>...</th>\n",
       "      <th>TX_RESPOSTAS_OBJETIVA</th>\n",
       "      <th>TX_GABARITO_OBJETIVA</th>\n",
       "      <th>TP_STATUS_REDACAO</th>\n",
       "      <th>NU_NOTA_COMP1</th>\n",
       "      <th>NU_NOTA_COMP2</th>\n",
       "      <th>NU_NOTA_COMP3</th>\n",
       "      <th>NU_NOTA_COMP4</th>\n",
       "      <th>NU_NOTA_COMP5</th>\n",
       "      <th>NU_NOTA_REDACAO</th>\n",
       "      <th>IN_QSE</th>\n",
       "    </tr>\n",
       "  </thead>\n",
       "  <tbody>\n",
       "    <tr>\n",
       "      <th>0</th>\n",
       "      <td>27.0</td>\n",
       "      <td>M</td>\n",
       "      <td>AREADO</td>\n",
       "      <td>31</td>\n",
       "      <td>MG</td>\n",
       "      <td>1.0</td>\n",
       "      <td>1.0</td>\n",
       "      <td>NaN</td>\n",
       "      <td>NaN</td>\n",
       "      <td>NaN</td>\n",
       "      <td>...</td>\n",
       "      <td>CDCBEDEDBDBABBBAEACEAEDDEBEAACDBCDECCBEABEECDB...</td>\n",
       "      <td>DBEBEDADBDBABABADBCEBEDDCCEBACCBCDECDBAAAEECDE...</td>\n",
       "      <td>P</td>\n",
       "      <td>37.5</td>\n",
       "      <td>37.5</td>\n",
       "      <td>37.5</td>\n",
       "      <td>37.5</td>\n",
       "      <td>37.5</td>\n",
       "      <td>37.5</td>\n",
       "      <td>1</td>\n",
       "    </tr>\n",
       "    <tr>\n",
       "      <th>1</th>\n",
       "      <td>17.0</td>\n",
       "      <td>F</td>\n",
       "      <td>POUSO REDONDO</td>\n",
       "      <td>42</td>\n",
       "      <td>SC</td>\n",
       "      <td>2.0</td>\n",
       "      <td>1.0</td>\n",
       "      <td>42140668.0</td>\n",
       "      <td>4214805.0</td>\n",
       "      <td>RIO DO SUL</td>\n",
       "      <td>...</td>\n",
       "      <td>DBDACAADBDBCAADAABCBEEEACCAADBDBCCDDCBDAAAECDA...</td>\n",
       "      <td>DBEEDBADBDBABADBABCBEDEDCCEABCCBCCDEDBAAAEECDE...</td>\n",
       "      <td>P</td>\n",
       "      <td>75.0</td>\n",
       "      <td>50.0</td>\n",
       "      <td>50.0</td>\n",
       "      <td>50.0</td>\n",
       "      <td>50.0</td>\n",
       "      <td>55.0</td>\n",
       "      <td>1</td>\n",
       "    </tr>\n",
       "    <tr>\n",
       "      <th>2</th>\n",
       "      <td>18.0</td>\n",
       "      <td>F</td>\n",
       "      <td>LAMBARI</td>\n",
       "      <td>31</td>\n",
       "      <td>MG</td>\n",
       "      <td>2.0</td>\n",
       "      <td>1.0</td>\n",
       "      <td>31172987.0</td>\n",
       "      <td>3137809.0</td>\n",
       "      <td>LAMBARI</td>\n",
       "      <td>...</td>\n",
       "      <td>.................................................</td>\n",
       "      <td>NaN</td>\n",
       "      <td>F</td>\n",
       "      <td>0.0</td>\n",
       "      <td>0.0</td>\n",
       "      <td>0.0</td>\n",
       "      <td>0.0</td>\n",
       "      <td>0.0</td>\n",
       "      <td>0.0</td>\n",
       "      <td>0</td>\n",
       "    </tr>\n",
       "    <tr>\n",
       "      <th>3</th>\n",
       "      <td>17.0</td>\n",
       "      <td>F</td>\n",
       "      <td>PICOS</td>\n",
       "      <td>22</td>\n",
       "      <td>PI</td>\n",
       "      <td>2.0</td>\n",
       "      <td>1.0</td>\n",
       "      <td>22128778.0</td>\n",
       "      <td>2208007.0</td>\n",
       "      <td>PICOS</td>\n",
       "      <td>...</td>\n",
       "      <td>DDCBDBABDDDBCABDAABBDCCEEAACECCECCDDABAAACECCE...</td>\n",
       "      <td>DBEBDEABDDBBAABDACBEBDCEDBACECCBCCDEDBAAAEECDE...</td>\n",
       "      <td>P</td>\n",
       "      <td>87.5</td>\n",
       "      <td>75.0</td>\n",
       "      <td>62.5</td>\n",
       "      <td>75.0</td>\n",
       "      <td>62.5</td>\n",
       "      <td>72.5</td>\n",
       "      <td>1</td>\n",
       "    </tr>\n",
       "    <tr>\n",
       "      <th>4</th>\n",
       "      <td>19.0</td>\n",
       "      <td>F</td>\n",
       "      <td>LAMBARI</td>\n",
       "      <td>31</td>\n",
       "      <td>MG</td>\n",
       "      <td>2.0</td>\n",
       "      <td>1.0</td>\n",
       "      <td>31172987.0</td>\n",
       "      <td>3137809.0</td>\n",
       "      <td>LAMBARI</td>\n",
       "      <td>...</td>\n",
       "      <td>ADDACDBDBDCCBBBCDAAAEDEECCACABEBEEEACBBABEAAAA...</td>\n",
       "      <td>DBEEDBADBDBABADBABCBEDEDCCEABCCBCCDEDBAAAEECDE...</td>\n",
       "      <td>P</td>\n",
       "      <td>75.0</td>\n",
       "      <td>62.5</td>\n",
       "      <td>62.5</td>\n",
       "      <td>62.5</td>\n",
       "      <td>75.0</td>\n",
       "      <td>67.5</td>\n",
       "      <td>1</td>\n",
       "    </tr>\n",
       "  </tbody>\n",
       "</table>\n",
       "<p>5 rows × 37 columns</p>\n",
       "</div>"
      ],
      "text/plain": [
       "   NU_IDADE TP_SEXO NO_MUNICIPIO_RESIDENCIA  CO_UF_RESIDENCIA  \\\n",
       "0      27.0       M                  AREADO                31   \n",
       "1      17.0       F           POUSO REDONDO                42   \n",
       "2      18.0       F                 LAMBARI                31   \n",
       "3      17.0       F                   PICOS                22   \n",
       "4      19.0       F                 LAMBARI                31   \n",
       "\n",
       "  SG_UF_RESIDENCIA  TP_ST_CONCLUSAO  TP_ENSINO   CO_ESCOLA  CO_MUNICIPIO_ESC  \\\n",
       "0               MG              1.0        1.0         NaN               NaN   \n",
       "1               SC              2.0        1.0  42140668.0         4214805.0   \n",
       "2               MG              2.0        1.0  31172987.0         3137809.0   \n",
       "3               PI              2.0        1.0  22128778.0         2208007.0   \n",
       "4               MG              2.0        1.0  31172987.0         3137809.0   \n",
       "\n",
       "  NO_MUNICIPIO_ESC   ...                                TX_RESPOSTAS_OBJETIVA  \\\n",
       "0              NaN   ...    CDCBEDEDBDBABBBAEACEAEDDEBEAACDBCDECCBEABEECDB...   \n",
       "1       RIO DO SUL   ...    DBDACAADBDBCAADAABCBEEEACCAADBDBCCDDCBDAAAECDA...   \n",
       "2          LAMBARI   ...    .................................................   \n",
       "3            PICOS   ...    DDCBDBABDDDBCABDAABBDCCEEAACECCECCDDABAAACECCE...   \n",
       "4          LAMBARI   ...    ADDACDBDBDCCBBBCDAAAEDEECCACABEBEEEACBBABEAAAA...   \n",
       "\n",
       "                                TX_GABARITO_OBJETIVA  TP_STATUS_REDACAO  \\\n",
       "0  DBEBEDADBDBABABADBCEBEDDCCEBACCBCDECDBAAAEECDE...                  P   \n",
       "1  DBEEDBADBDBABADBABCBEDEDCCEABCCBCCDEDBAAAEECDE...                  P   \n",
       "2                                                NaN                  F   \n",
       "3  DBEBDEABDDBBAABDACBEBDCEDBACECCBCCDEDBAAAEECDE...                  P   \n",
       "4  DBEEDBADBDBABADBABCBEDEDCCEABCCBCCDEDBAAAEECDE...                  P   \n",
       "\n",
       "   NU_NOTA_COMP1  NU_NOTA_COMP2  NU_NOTA_COMP3 NU_NOTA_COMP4  NU_NOTA_COMP5  \\\n",
       "0           37.5           37.5           37.5          37.5           37.5   \n",
       "1           75.0           50.0           50.0          50.0           50.0   \n",
       "2            0.0            0.0            0.0           0.0            0.0   \n",
       "3           87.5           75.0           62.5          75.0           62.5   \n",
       "4           75.0           62.5           62.5          62.5           75.0   \n",
       "\n",
       "  NU_NOTA_REDACAO  IN_QSE  \n",
       "0            37.5       1  \n",
       "1            55.0       1  \n",
       "2             0.0       0  \n",
       "3            72.5       1  \n",
       "4            67.5       1  \n",
       "\n",
       "[5 rows x 37 columns]"
      ]
     },
     "execution_count": 11,
     "metadata": {},
     "output_type": "execute_result"
    }
   ],
   "source": [
    "enem2018.head()"
   ]
  },
  {
   "cell_type": "code",
   "execution_count": 12,
   "metadata": {},
   "outputs": [],
   "source": [
    "#Criando nova variável e ignorando mensagem de aviso\n",
    "\n",
    "import warnings\n",
    "warnings.filterwarnings(\"ignore\")\n",
    "\n",
    "enem2018.municipio = enem2018['NO_MUNICIPIO_RESIDENCIA']"
   ]
  },
  {
   "cell_type": "code",
   "execution_count": 13,
   "metadata": {},
   "outputs": [
    {
     "data": {
      "text/plain": [
       "0                              AREADO\n",
       "1                       POUSO REDONDO\n",
       "2                             LAMBARI\n",
       "3                               PICOS\n",
       "4                             LAMBARI\n",
       "5                              AREADO\n",
       "6                              AREADO\n",
       "7                              AREADO\n",
       "8                              AREADO\n",
       "9                             LAMBARI\n",
       "10                            LAMBARI\n",
       "11                            LAMBARI\n",
       "12                      TRES CORACOES\n",
       "13                            LAMBARI\n",
       "14                            LAMBARI\n",
       "15                            LAMBARI\n",
       "16                            LAMBARI\n",
       "17                            LAMBARI\n",
       "18                            LAMBARI\n",
       "19                            LAMBARI\n",
       "20                            LAMBARI\n",
       "21                            LAMBARI\n",
       "22                            LAMBARI\n",
       "23                            LAMBARI\n",
       "24                       SAO LOURENCO\n",
       "25                            LAMBARI\n",
       "26                            LAMBARI\n",
       "27                            LAMBARI\n",
       "28                            LAMBARI\n",
       "29                            LAMBARI\n",
       "                     ...             \n",
       "99970    SAO LUIS GONZAGA DO MARANHAO\n",
       "99971    SAO LUIS GONZAGA DO MARANHAO\n",
       "99972    SAO LUIS GONZAGA DO MARANHAO\n",
       "99973    SAO LUIS GONZAGA DO MARANHAO\n",
       "99974    SAO LUIS GONZAGA DO MARANHAO\n",
       "99975    SAO LUIS GONZAGA DO MARANHAO\n",
       "99976    SAO LUIS GONZAGA DO MARANHAO\n",
       "99977    SAO LUIS GONZAGA DO MARANHAO\n",
       "99978    SAO LUIS GONZAGA DO MARANHAO\n",
       "99979    SAO LUIS GONZAGA DO MARANHAO\n",
       "99980    SAO LUIS GONZAGA DO MARANHAO\n",
       "99981    SAO LUIS GONZAGA DO MARANHAO\n",
       "99982    SAO LUIS GONZAGA DO MARANHAO\n",
       "99983    SAO LUIS GONZAGA DO MARANHAO\n",
       "99984    SAO LUIS GONZAGA DO MARANHAO\n",
       "99985    SAO LUIS GONZAGA DO MARANHAO\n",
       "99986    SAO LUIS GONZAGA DO MARANHAO\n",
       "99987    SAO LUIS GONZAGA DO MARANHAO\n",
       "99988    SAO LUIS GONZAGA DO MARANHAO\n",
       "99989    SAO LUIS GONZAGA DO MARANHAO\n",
       "99990    SAO LUIS GONZAGA DO MARANHAO\n",
       "99991    SAO LUIS GONZAGA DO MARANHAO\n",
       "99992    SAO LUIS GONZAGA DO MARANHAO\n",
       "99993    SAO LUIS GONZAGA DO MARANHAO\n",
       "99994    SAO LUIS GONZAGA DO MARANHAO\n",
       "99995    SAO LUIS GONZAGA DO MARANHAO\n",
       "99996    SAO LUIS GONZAGA DO MARANHAO\n",
       "99997    SAO LUIS GONZAGA DO MARANHAO\n",
       "99998    SAO LUIS GONZAGA DO MARANHAO\n",
       "99999    SAO LUIS GONZAGA DO MARANHAO\n",
       "Name: NO_MUNICIPIO_RESIDENCIA, Length: 100000, dtype: object"
      ]
     },
     "execution_count": 13,
     "metadata": {},
     "output_type": "execute_result"
    }
   ],
   "source": [
    "# Visualizando os municipius\n",
    "\n",
    "enem2018.municipio"
   ]
  },
  {
   "cell_type": "markdown",
   "metadata": {},
   "source": [
    "\n",
    "<b>Aqui podemos ver que os município SALVADOR, BELEM e SANTA LUZIA, onde teve mais cantidados para realiar a prova</b>"
   ]
  },
  {
   "cell_type": "code",
   "execution_count": 14,
   "metadata": {},
   "outputs": [
    {
     "data": {
      "text/plain": [
       "SALVADOR                    8309\n",
       "BELEM                       8199\n",
       "SANTA LUZIA                 3981\n",
       "IMPERATRIZ                  3791\n",
       "GUANAMBI                    3187\n",
       "BELO HORIZONTE              3103\n",
       "ILHEUS                      2784\n",
       "RIO BRANCO                  2500\n",
       "VICOSA                      2294\n",
       "SAO LUIS                    2203\n",
       "ITABUNA                     2019\n",
       "ANANINDEUA                  1977\n",
       "ARACAJU                     1902\n",
       "JUAZEIRO DO NORTE           1899\n",
       "CRATO                       1867\n",
       "ARAGUARI                    1855\n",
       "TIMOTEO                     1428\n",
       "CUIABA                      1368\n",
       "PORTO VELHO                 1309\n",
       "JUIZ DE FORA                1257\n",
       "LAGARTO                     1252\n",
       "NOVA LIMA                   1131\n",
       "PICOS                       1008\n",
       "VARGINHA                     928\n",
       "SENHOR DO BONFIM             914\n",
       "IRECE                        892\n",
       "SETE LAGOAS                  872\n",
       "PIMENTA BUENO                842\n",
       "BARBACENA                    741\n",
       "OEIRAS                       740\n",
       "                            ... \n",
       "SAO JOAO EVANGELISTA           1\n",
       "BREJO GRANDE DO ARAGUAIA       1\n",
       "GUAIRA                         1\n",
       "TAIOBEIRAS                     1\n",
       "IRARA                          1\n",
       "MARACAS                        1\n",
       "ALAGOA                         1\n",
       "BELO VALE                      1\n",
       "COROMANDEL                     1\n",
       "WANDERLEY                      1\n",
       "ACARA                          1\n",
       "TIJUCAS                        1\n",
       "BOTUVERA                       1\n",
       "ALPINOPOLIS                    1\n",
       "CANINDE                        1\n",
       "TAPIRATIBA                     1\n",
       "RIO ESPERA                     1\n",
       "GURUPI                         1\n",
       "NOVA VENEZA                    1\n",
       "CAMANDUCAIA                    1\n",
       "PLACIDO DE CASTRO              1\n",
       "EUSEBIO                        1\n",
       "SALINAS                        1\n",
       "NOVO CRUZEIRO                  1\n",
       "TERRA NOVA                     1\n",
       "SAO BRAZ DO PIAUI              1\n",
       "MARIO CAMPOS                   1\n",
       "MONTE BELO                     1\n",
       "JOSE RAYDAN                    1\n",
       "ALAGOINHAS                     1\n",
       "Name: NO_MUNICIPIO_RESIDENCIA, Length: 977, dtype: int64"
      ]
     },
     "execution_count": 14,
     "metadata": {},
     "output_type": "execute_result"
    }
   ],
   "source": [
    "#Realizando contagem da variável\n",
    "\n",
    "enem2018.municipio.value_counts()"
   ]
  },
  {
   "cell_type": "code",
   "execution_count": 15,
   "metadata": {},
   "outputs": [],
   "source": [
    "#Criando dataframe para idade\n",
    "\n",
    "enem2018.idade = enem2018.NU_IDADE"
   ]
  },
  {
   "cell_type": "markdown",
   "metadata": {},
   "source": [
    "\n",
    "<b>Aqui vemos que termos pessoas de 10 a 99 anos segundo no dataset, que realizaram a prova. Quem tem menos de 18 anos, só pode fazer prova de teste</b>"
   ]
  },
  {
   "cell_type": "code",
   "execution_count": 16,
   "metadata": {},
   "outputs": [
    {
     "data": {
      "text/plain": [
       "10.0       47\n",
       "11.0       20\n",
       "12.0       14\n",
       "13.0       11\n",
       "14.0       32\n",
       "15.0      265\n",
       "16.0     1654\n",
       "17.0     9763\n",
       "18.0    11776\n",
       "19.0    10487\n",
       "20.0     8780\n",
       "21.0     7434\n",
       "22.0     6192\n",
       "23.0     5405\n",
       "24.0     4450\n",
       "25.0     4061\n",
       "26.0     3602\n",
       "27.0     3164\n",
       "28.0     2701\n",
       "29.0     2330\n",
       "30.0     1883\n",
       "31.0     1750\n",
       "32.0     1461\n",
       "33.0     1330\n",
       "34.0     1246\n",
       "35.0     1082\n",
       "36.0     1042\n",
       "37.0      908\n",
       "38.0      832\n",
       "39.0      756\n",
       "        ...  \n",
       "50.0      167\n",
       "51.0      157\n",
       "52.0      113\n",
       "53.0       88\n",
       "54.0       95\n",
       "55.0       72\n",
       "56.0       57\n",
       "57.0       41\n",
       "58.0       37\n",
       "59.0       24\n",
       "60.0       18\n",
       "61.0       14\n",
       "62.0       10\n",
       "63.0        6\n",
       "64.0        6\n",
       "65.0        8\n",
       "66.0        7\n",
       "67.0        2\n",
       "68.0        2\n",
       "69.0        3\n",
       "71.0        1\n",
       "73.0        1\n",
       "75.0        1\n",
       "76.0        1\n",
       "79.0        5\n",
       "80.0        2\n",
       "82.0        1\n",
       "83.0        2\n",
       "89.0        1\n",
       "99.0        1\n",
       "Name: NU_IDADE, Length: 70, dtype: int64"
      ]
     },
     "execution_count": 16,
     "metadata": {},
     "output_type": "execute_result"
    }
   ],
   "source": [
    "enem2018.idade.value_counts().sort_index()"
   ]
  },
  {
   "cell_type": "markdown",
   "metadata": {},
   "source": [
    "\n",
    "<b>A média foi de 23 anos para realizar as provas</b>"
   ]
  },
  {
   "cell_type": "code",
   "execution_count": 17,
   "metadata": {},
   "outputs": [
    {
     "data": {
      "text/plain": [
       "count    99736.000000\n",
       "mean        23.908348\n",
       "std          7.426052\n",
       "min         10.000000\n",
       "25%         19.000000\n",
       "50%         21.000000\n",
       "75%         27.000000\n",
       "max         99.000000\n",
       "Name: NU_IDADE, dtype: float64"
      ]
     },
     "execution_count": 17,
     "metadata": {},
     "output_type": "execute_result"
    }
   ],
   "source": [
    "#Resumo de dados para idade\n",
    "\n",
    "enem2018.idade.describe()"
   ]
  },
  {
   "cell_type": "code",
   "execution_count": 18,
   "metadata": {},
   "outputs": [],
   "source": [
    "#importando Matplotlip\n",
    "\n",
    "import matplotlib as plt"
   ]
  },
  {
   "cell_type": "markdown",
   "metadata": {},
   "source": [
    "\n",
    "<b>Aqui vermos que a maioria das pessoas que realizaram a prova, foi de mais ou menos entre 18 a 30 anos</b>"
   ]
  },
  {
   "cell_type": "code",
   "execution_count": 19,
   "metadata": {},
   "outputs": [
    {
     "data": {
      "text/plain": [
       "<matplotlib.axes._subplots.AxesSubplot at 0x294dd77a438>"
      ]
     },
     "execution_count": 19,
     "metadata": {},
     "output_type": "execute_result"
    }
   ],
   "source": [
    "#Criando gráfico\n",
    "\n",
    "enem2018.idade.hist()"
   ]
  },
  {
   "cell_type": "code",
   "execution_count": 20,
   "metadata": {},
   "outputs": [],
   "source": [
    "#Criar uma varíavel para amarzenar o estado\n",
    "\n",
    "enem2018.estado = enem2018['SG_UF_RESIDENCIA']"
   ]
  },
  {
   "cell_type": "code",
   "execution_count": 21,
   "metadata": {},
   "outputs": [
    {
     "data": {
      "text/plain": [
       "0    MG\n",
       "1    SC\n",
       "2    MG\n",
       "3    PI\n",
       "4    MG\n",
       "Name: SG_UF_RESIDENCIA, dtype: object"
      ]
     },
     "execution_count": 21,
     "metadata": {},
     "output_type": "execute_result"
    }
   ],
   "source": [
    "# Ler as primeiras linhas da nova varíavel\n",
    "\n",
    "enem2018.estado.head()"
   ]
  },
  {
   "cell_type": "markdown",
   "metadata": {},
   "source": [
    "\n",
    "<b>Podemos ver aqui que o estado de Minhas Gerais, foi onde se teve mais pessoas realizando a prova</b>"
   ]
  },
  {
   "cell_type": "code",
   "execution_count": 22,
   "metadata": {},
   "outputs": [
    {
     "data": {
      "text/plain": [
       "MG    27825\n",
       "BA    23833\n",
       "PA    11361\n",
       "MA     6592\n",
       "CE     5184\n",
       "GO     3950\n",
       "SE     3902\n",
       "PI     3820\n",
       "RO     3812\n",
       "DF     2784\n",
       "SC     2622\n",
       "AC     2525\n",
       "MT     1415\n",
       "ES      239\n",
       "TO       62\n",
       "PE       27\n",
       "SP       21\n",
       "AL        7\n",
       "RJ        5\n",
       "RS        4\n",
       "PR        3\n",
       "MS        3\n",
       "PB        2\n",
       "AP        2\n",
       "Name: SG_UF_RESIDENCIA, dtype: int64"
      ]
     },
     "execution_count": 22,
     "metadata": {},
     "output_type": "execute_result"
    }
   ],
   "source": [
    "enem2018.estado.value_counts()"
   ]
  },
  {
   "cell_type": "code",
   "execution_count": 23,
   "metadata": {},
   "outputs": [],
   "source": [
    "#Verificar se o canditado mora na zona urbana ou rural\n",
    "\n",
    "enem2018.localizacao = enem2018['TP_LOCALIZACAO_ESC']"
   ]
  },
  {
   "cell_type": "code",
   "execution_count": 24,
   "metadata": {},
   "outputs": [
    {
     "data": {
      "text/plain": [
       "0    NaN\n",
       "1    1.0\n",
       "2    1.0\n",
       "3    1.0\n",
       "4    1.0\n",
       "5    NaN\n",
       "6    NaN\n",
       "7    NaN\n",
       "8    NaN\n",
       "9    1.0\n",
       "Name: TP_LOCALIZACAO_ESC, dtype: float64"
      ]
     },
     "execution_count": 24,
     "metadata": {},
     "output_type": "execute_result"
    }
   ],
   "source": [
    "#Lendo as primeiras linhas\n",
    "\n",
    "enem2018.localizacao.head(10)"
   ]
  },
  {
   "cell_type": "markdown",
   "metadata": {},
   "source": [
    "\n",
    "<b>Aqui vermos que termos muito mais pessoas que moram na zona urbana do que na rural</b>"
   ]
  },
  {
   "cell_type": "code",
   "execution_count": 25,
   "metadata": {},
   "outputs": [
    {
     "data": {
      "text/plain": [
       "1.0    35553\n",
       "2.0      480\n",
       "Name: TP_LOCALIZACAO_ESC, dtype: int64"
      ]
     },
     "execution_count": 25,
     "metadata": {},
     "output_type": "execute_result"
    }
   ],
   "source": [
    "#Verificando quantidade\n",
    "# 1 - zona urbana\n",
    "# 2 - zona rural\n",
    "\n",
    "enem2018.localizacao.value_counts()"
   ]
  },
  {
   "cell_type": "code",
   "execution_count": 26,
   "metadata": {},
   "outputs": [
    {
     "data": {
      "text/plain": [
       "63967"
      ]
     },
     "execution_count": 26,
     "metadata": {},
     "output_type": "execute_result"
    }
   ],
   "source": [
    "#Quantidade de valores que não foi preenchido a localização\n",
    "\n",
    "sum(pd.isnull(enem2018.localizacao))"
   ]
  },
  {
   "cell_type": "code",
   "execution_count": 27,
   "metadata": {},
   "outputs": [
    {
     "name": "stdout",
     "output_type": "stream",
     "text": [
      "(100000, 37)\n"
     ]
    }
   ],
   "source": [
    "#Tamanho de dados, 100 mil de canditados\n",
    "\n",
    "print(enem2018.shape)"
   ]
  },
  {
   "cell_type": "code",
   "execution_count": 28,
   "metadata": {},
   "outputs": [],
   "source": [
    "#Removendo valores NA\n",
    "\n",
    "enem2018.localizacao = enem2018.localizacao.dropna()"
   ]
  },
  {
   "cell_type": "code",
   "execution_count": 29,
   "metadata": {},
   "outputs": [
    {
     "data": {
      "text/plain": [
       "0"
      ]
     },
     "execution_count": 29,
     "metadata": {},
     "output_type": "execute_result"
    }
   ],
   "source": [
    "#Verificando quantidaddae de NA\n",
    "\n",
    "sum(pd.isnull(enem2018.localizacao))"
   ]
  },
  {
   "cell_type": "code",
   "execution_count": 30,
   "metadata": {},
   "outputs": [],
   "source": [
    "#Realizar conta de porcentual\n",
    "\n",
    "urbano = 35553/100000 * 100\n",
    "rural = 480/100000 * 100"
   ]
  },
  {
   "cell_type": "code",
   "execution_count": 31,
   "metadata": {},
   "outputs": [
    {
     "name": "stdout",
     "output_type": "stream",
     "text": [
      "Porcentagem de canditados que mora na zona urbana é:  36\n",
      "Porcentagem de canditados que mora na zona rural é:  0.48\n"
     ]
    }
   ],
   "source": [
    "print(\"Porcentagem de canditados que mora na zona urbana é: \", round(urbano))\n",
    "print(\"Porcentagem de canditados que mora na zona rural é: \", rural)"
   ]
  },
  {
   "cell_type": "code",
   "execution_count": 32,
   "metadata": {},
   "outputs": [],
   "source": [
    "#Criar nova varíavel para armazenar o sexo\n",
    "\n",
    "enem2018.sexo = enem2018['TP_SEXO']"
   ]
  },
  {
   "cell_type": "markdown",
   "metadata": {},
   "source": [
    "\n",
    "<b>Podemos ver que tivermos muito mais pessoas do sexo feminino realizando a prova</b>"
   ]
  },
  {
   "cell_type": "code",
   "execution_count": 33,
   "metadata": {},
   "outputs": [
    {
     "data": {
      "text/plain": [
       "F    64654\n",
       "M    35024\n",
       "Name: TP_SEXO, dtype: int64"
      ]
     },
     "execution_count": 33,
     "metadata": {},
     "output_type": "execute_result"
    }
   ],
   "source": [
    "enem2018.sexo.value_counts()"
   ]
  },
  {
   "cell_type": "code",
   "execution_count": 34,
   "metadata": {},
   "outputs": [
    {
     "data": {
      "text/plain": [
       "99678"
      ]
     },
     "execution_count": 34,
     "metadata": {},
     "output_type": "execute_result"
    }
   ],
   "source": [
    "#Quantidade de dados que teve o preenchimento da coluna sexo\n",
    "\n",
    "tSexo = 64654+35024\n",
    "tSexo"
   ]
  },
  {
   "cell_type": "code",
   "execution_count": 35,
   "metadata": {},
   "outputs": [
    {
     "data": {
      "text/plain": [
       "322"
      ]
     },
     "execution_count": 35,
     "metadata": {},
     "output_type": "execute_result"
    }
   ],
   "source": [
    "#Total de valores que não foi preenchido\n",
    "\n",
    "tNull = sum(pd.isnull(enem2018.sexo))\n",
    "tNull"
   ]
  },
  {
   "cell_type": "code",
   "execution_count": 36,
   "metadata": {},
   "outputs": [
    {
     "data": {
      "text/plain": [
       "100000"
      ]
     },
     "execution_count": 36,
     "metadata": {},
     "output_type": "execute_result"
    }
   ],
   "source": [
    "#Quantidade total\n",
    "\n",
    "tSexo + tNull"
   ]
  },
  {
   "cell_type": "code",
   "execution_count": 37,
   "metadata": {},
   "outputs": [],
   "source": [
    "#Filtrando colunas\n",
    "\n",
    "selecionarColunas = ['TP_SEXO', 'NU_NOTA_REDACAO']"
   ]
  },
  {
   "cell_type": "code",
   "execution_count": 38,
   "metadata": {},
   "outputs": [],
   "source": [
    "sexoRedacao = enem2018.filter(items = selecionarColunas)"
   ]
  },
  {
   "cell_type": "code",
   "execution_count": 39,
   "metadata": {},
   "outputs": [
    {
     "data": {
      "text/html": [
       "<div>\n",
       "<style scoped>\n",
       "    .dataframe tbody tr th:only-of-type {\n",
       "        vertical-align: middle;\n",
       "    }\n",
       "\n",
       "    .dataframe tbody tr th {\n",
       "        vertical-align: top;\n",
       "    }\n",
       "\n",
       "    .dataframe thead th {\n",
       "        text-align: right;\n",
       "    }\n",
       "</style>\n",
       "<table border=\"1\" class=\"dataframe\">\n",
       "  <thead>\n",
       "    <tr style=\"text-align: right;\">\n",
       "      <th></th>\n",
       "      <th>TP_SEXO</th>\n",
       "      <th>NU_NOTA_REDACAO</th>\n",
       "    </tr>\n",
       "  </thead>\n",
       "  <tbody>\n",
       "    <tr>\n",
       "      <th>0</th>\n",
       "      <td>M</td>\n",
       "      <td>37.5</td>\n",
       "    </tr>\n",
       "    <tr>\n",
       "      <th>1</th>\n",
       "      <td>F</td>\n",
       "      <td>55.0</td>\n",
       "    </tr>\n",
       "    <tr>\n",
       "      <th>2</th>\n",
       "      <td>F</td>\n",
       "      <td>0.0</td>\n",
       "    </tr>\n",
       "    <tr>\n",
       "      <th>3</th>\n",
       "      <td>F</td>\n",
       "      <td>72.5</td>\n",
       "    </tr>\n",
       "    <tr>\n",
       "      <th>4</th>\n",
       "      <td>F</td>\n",
       "      <td>67.5</td>\n",
       "    </tr>\n",
       "  </tbody>\n",
       "</table>\n",
       "</div>"
      ],
      "text/plain": [
       "  TP_SEXO  NU_NOTA_REDACAO\n",
       "0       M             37.5\n",
       "1       F             55.0\n",
       "2       F              0.0\n",
       "3       F             72.5\n",
       "4       F             67.5"
      ]
     },
     "execution_count": 39,
     "metadata": {},
     "output_type": "execute_result"
    }
   ],
   "source": [
    "#Lendo as primeiras linhas da nova variável\n",
    "\n",
    "sexoRedacao.head()"
   ]
  },
  {
   "cell_type": "code",
   "execution_count": 40,
   "metadata": {},
   "outputs": [
    {
     "data": {
      "text/plain": [
       "322"
      ]
     },
     "execution_count": 40,
     "metadata": {},
     "output_type": "execute_result"
    }
   ],
   "source": [
    "#Soma total de valores nulos da coluna sexo\n",
    "\n",
    "sum(pd.isnull(sexoRedacao['TP_SEXO']))"
   ]
  },
  {
   "cell_type": "code",
   "execution_count": 41,
   "metadata": {},
   "outputs": [],
   "source": [
    "#Retirar os valores nulos\n",
    "\n",
    "sexoRedacao = sexoRedacao.dropna()"
   ]
  },
  {
   "cell_type": "code",
   "execution_count": 42,
   "metadata": {},
   "outputs": [
    {
     "data": {
      "text/plain": [
       "0"
      ]
     },
     "execution_count": 42,
     "metadata": {},
     "output_type": "execute_result"
    }
   ],
   "source": [
    "sum(pd.isnull(sexoRedacao['TP_SEXO']))"
   ]
  },
  {
   "cell_type": "markdown",
   "metadata": {},
   "source": [
    "\n",
    "<b>Tivermos mais pessoas realizando redação do sexo feminino</b>"
   ]
  },
  {
   "cell_type": "code",
   "execution_count": 43,
   "metadata": {},
   "outputs": [
    {
     "data": {
      "text/html": [
       "<div>\n",
       "<style scoped>\n",
       "    .dataframe tbody tr th:only-of-type {\n",
       "        vertical-align: middle;\n",
       "    }\n",
       "\n",
       "    .dataframe tbody tr th {\n",
       "        vertical-align: top;\n",
       "    }\n",
       "\n",
       "    .dataframe thead th {\n",
       "        text-align: right;\n",
       "    }\n",
       "</style>\n",
       "<table border=\"1\" class=\"dataframe\">\n",
       "  <thead>\n",
       "    <tr style=\"text-align: right;\">\n",
       "      <th></th>\n",
       "      <th>NU_NOTA_REDACAO</th>\n",
       "    </tr>\n",
       "    <tr>\n",
       "      <th>TP_SEXO</th>\n",
       "      <th></th>\n",
       "    </tr>\n",
       "  </thead>\n",
       "  <tbody>\n",
       "    <tr>\n",
       "      <th>F</th>\n",
       "      <td>64654</td>\n",
       "    </tr>\n",
       "    <tr>\n",
       "      <th>M</th>\n",
       "      <td>35024</td>\n",
       "    </tr>\n",
       "  </tbody>\n",
       "</table>\n",
       "</div>"
      ],
      "text/plain": [
       "         NU_NOTA_REDACAO\n",
       "TP_SEXO                 \n",
       "F                  64654\n",
       "M                  35024"
      ]
     },
     "execution_count": 43,
     "metadata": {},
     "output_type": "execute_result"
    }
   ],
   "source": [
    "sexoRedacao.groupby('TP_SEXO').count()"
   ]
  },
  {
   "cell_type": "code",
   "execution_count": 44,
   "metadata": {},
   "outputs": [
    {
     "data": {
      "text/html": [
       "<div>\n",
       "<style scoped>\n",
       "    .dataframe tbody tr th:only-of-type {\n",
       "        vertical-align: middle;\n",
       "    }\n",
       "\n",
       "    .dataframe tbody tr th {\n",
       "        vertical-align: top;\n",
       "    }\n",
       "\n",
       "    .dataframe thead th {\n",
       "        text-align: right;\n",
       "    }\n",
       "</style>\n",
       "<table border=\"1\" class=\"dataframe\">\n",
       "  <thead>\n",
       "    <tr style=\"text-align: right;\">\n",
       "      <th></th>\n",
       "      <th>NU_NOTA_REDACAO</th>\n",
       "    </tr>\n",
       "    <tr>\n",
       "      <th>TP_SEXO</th>\n",
       "      <th></th>\n",
       "    </tr>\n",
       "  </thead>\n",
       "  <tbody>\n",
       "    <tr>\n",
       "      <th>F</th>\n",
       "      <td>100.0</td>\n",
       "    </tr>\n",
       "    <tr>\n",
       "      <th>M</th>\n",
       "      <td>100.0</td>\n",
       "    </tr>\n",
       "  </tbody>\n",
       "</table>\n",
       "</div>"
      ],
      "text/plain": [
       "         NU_NOTA_REDACAO\n",
       "TP_SEXO                 \n",
       "F                  100.0\n",
       "M                  100.0"
      ]
     },
     "execution_count": 44,
     "metadata": {},
     "output_type": "execute_result"
    }
   ],
   "source": [
    "# Visualizando a nota máxima\n",
    "\n",
    "sexoRedacao.groupby('TP_SEXO').max()"
   ]
  },
  {
   "cell_type": "code",
   "execution_count": 45,
   "metadata": {},
   "outputs": [
    {
     "data": {
      "text/html": [
       "<div>\n",
       "<style scoped>\n",
       "    .dataframe tbody tr th:only-of-type {\n",
       "        vertical-align: middle;\n",
       "    }\n",
       "\n",
       "    .dataframe tbody tr th {\n",
       "        vertical-align: top;\n",
       "    }\n",
       "\n",
       "    .dataframe thead th {\n",
       "        text-align: right;\n",
       "    }\n",
       "</style>\n",
       "<table border=\"1\" class=\"dataframe\">\n",
       "  <thead>\n",
       "    <tr style=\"text-align: right;\">\n",
       "      <th></th>\n",
       "      <th>NU_NOTA_REDACAO</th>\n",
       "    </tr>\n",
       "    <tr>\n",
       "      <th>TP_SEXO</th>\n",
       "      <th></th>\n",
       "    </tr>\n",
       "  </thead>\n",
       "  <tbody>\n",
       "    <tr>\n",
       "      <th>F</th>\n",
       "      <td>0.0</td>\n",
       "    </tr>\n",
       "    <tr>\n",
       "      <th>M</th>\n",
       "      <td>0.0</td>\n",
       "    </tr>\n",
       "  </tbody>\n",
       "</table>\n",
       "</div>"
      ],
      "text/plain": [
       "         NU_NOTA_REDACAO\n",
       "TP_SEXO                 \n",
       "F                    0.0\n",
       "M                    0.0"
      ]
     },
     "execution_count": 45,
     "metadata": {},
     "output_type": "execute_result"
    }
   ],
   "source": [
    "# Visualizando a nota mínima\n",
    "\n",
    "sexoRedacao.groupby('TP_SEXO').min()"
   ]
  },
  {
   "cell_type": "markdown",
   "metadata": {},
   "source": [
    "\n",
    "<b>Tirando as pessoas que zeraram a nota de redação, a menor nota foi de 25 para ambos os sexos</b>"
   ]
  },
  {
   "cell_type": "code",
   "execution_count": 46,
   "metadata": {},
   "outputs": [
    {
     "data": {
      "text/html": [
       "<div>\n",
       "<style scoped>\n",
       "    .dataframe tbody tr th:only-of-type {\n",
       "        vertical-align: middle;\n",
       "    }\n",
       "\n",
       "    .dataframe tbody tr th {\n",
       "        vertical-align: top;\n",
       "    }\n",
       "\n",
       "    .dataframe thead th {\n",
       "        text-align: right;\n",
       "    }\n",
       "</style>\n",
       "<table border=\"1\" class=\"dataframe\">\n",
       "  <thead>\n",
       "    <tr style=\"text-align: right;\">\n",
       "      <th></th>\n",
       "      <th>NU_NOTA_REDACAO</th>\n",
       "    </tr>\n",
       "    <tr>\n",
       "      <th>TP_SEXO</th>\n",
       "      <th></th>\n",
       "    </tr>\n",
       "  </thead>\n",
       "  <tbody>\n",
       "    <tr>\n",
       "      <th>F</th>\n",
       "      <td>25.0</td>\n",
       "    </tr>\n",
       "    <tr>\n",
       "      <th>M</th>\n",
       "      <td>25.0</td>\n",
       "    </tr>\n",
       "  </tbody>\n",
       "</table>\n",
       "</div>"
      ],
      "text/plain": [
       "         NU_NOTA_REDACAO\n",
       "TP_SEXO                 \n",
       "F                   25.0\n",
       "M                   25.0"
      ]
     },
     "execution_count": 46,
     "metadata": {},
     "output_type": "execute_result"
    }
   ],
   "source": [
    "sexoRedacao[sexoRedacao.NU_NOTA_REDACAO > 0].groupby('TP_SEXO').min()"
   ]
  },
  {
   "cell_type": "code",
   "execution_count": 47,
   "metadata": {},
   "outputs": [
    {
     "data": {
      "text/html": [
       "<div>\n",
       "<style scoped>\n",
       "    .dataframe tbody tr th:only-of-type {\n",
       "        vertical-align: middle;\n",
       "    }\n",
       "\n",
       "    .dataframe tbody tr th {\n",
       "        vertical-align: top;\n",
       "    }\n",
       "\n",
       "    .dataframe thead th {\n",
       "        text-align: right;\n",
       "    }\n",
       "</style>\n",
       "<table border=\"1\" class=\"dataframe\">\n",
       "  <thead>\n",
       "    <tr style=\"text-align: right;\">\n",
       "      <th></th>\n",
       "      <th>NU_NOTA_REDACAO</th>\n",
       "    </tr>\n",
       "    <tr>\n",
       "      <th>TP_SEXO</th>\n",
       "      <th></th>\n",
       "    </tr>\n",
       "  </thead>\n",
       "  <tbody>\n",
       "    <tr>\n",
       "      <th>F</th>\n",
       "      <td>42.456113</td>\n",
       "    </tr>\n",
       "    <tr>\n",
       "      <th>M</th>\n",
       "      <td>40.171240</td>\n",
       "    </tr>\n",
       "  </tbody>\n",
       "</table>\n",
       "</div>"
      ],
      "text/plain": [
       "         NU_NOTA_REDACAO\n",
       "TP_SEXO                 \n",
       "F              42.456113\n",
       "M              40.171240"
      ]
     },
     "execution_count": 47,
     "metadata": {},
     "output_type": "execute_result"
    }
   ],
   "source": [
    "#Média da nota da redação por sexo\n",
    "\n",
    "sexoRedacao.groupby('TP_SEXO').mean()"
   ]
  },
  {
   "cell_type": "markdown",
   "metadata": {},
   "source": [
    "\n",
    "<b>Abaixo podemos ver que termos uma grande quantidade de pessoas que tirou a nota zero. Muito provavel que entregaram as provas em branco</b>"
   ]
  },
  {
   "cell_type": "code",
   "execution_count": 48,
   "metadata": {},
   "outputs": [
    {
     "data": {
      "text/plain": [
       "TP_SEXO\n",
       "F    [[AxesSubplot(0.125,0.125;0.775x0.755)]]\n",
       "M    [[AxesSubplot(0.125,0.125;0.775x0.755)]]\n",
       "dtype: object"
      ]
     },
     "execution_count": 48,
     "metadata": {},
     "output_type": "execute_result"
    },
    {
     "data": {
      "image/png": "[encoded data removed]",
      "text/plain": [
       "<Figure size 432x288 with 1 Axes>"
      ]
     },
     "metadata": {
      "needs_background": "light"
     },
     "output_type": "display_data"
    },
    {
     "data": {
      "image/png": "[encoded data removed]",
      "text/plain": [
       "<Figure size 432x288 with 1 Axes>"
      ]
     },
     "metadata": {
      "needs_background": "light"
     },
     "output_type": "display_data"
    }
   ],
   "source": [
    "sexoRedacao.groupby('TP_SEXO').hist()"
   ]
  },
  {
   "cell_type": "markdown",
   "metadata": {},
   "source": [
    "\n",
    "<b>Podemos ver que a média é menor que a metdade da nota da prova</b>"
   ]
  },
  {
   "cell_type": "code",
   "execution_count": 49,
   "metadata": {},
   "outputs": [
    {
     "data": {
      "text/html": [
       "<div>\n",
       "<style scoped>\n",
       "    .dataframe tbody tr th:only-of-type {\n",
       "        vertical-align: middle;\n",
       "    }\n",
       "\n",
       "    .dataframe tbody tr th {\n",
       "        vertical-align: top;\n",
       "    }\n",
       "\n",
       "    .dataframe thead tr th {\n",
       "        text-align: left;\n",
       "    }\n",
       "\n",
       "    .dataframe thead tr:last-of-type th {\n",
       "        text-align: right;\n",
       "    }\n",
       "</style>\n",
       "<table border=\"1\" class=\"dataframe\">\n",
       "  <thead>\n",
       "    <tr>\n",
       "      <th></th>\n",
       "      <th colspan=\"8\" halign=\"left\">NU_NOTA_REDACAO</th>\n",
       "    </tr>\n",
       "    <tr>\n",
       "      <th></th>\n",
       "      <th>count</th>\n",
       "      <th>mean</th>\n",
       "      <th>std</th>\n",
       "      <th>min</th>\n",
       "      <th>25%</th>\n",
       "      <th>50%</th>\n",
       "      <th>75%</th>\n",
       "      <th>max</th>\n",
       "    </tr>\n",
       "    <tr>\n",
       "      <th>TP_SEXO</th>\n",
       "      <th></th>\n",
       "      <th></th>\n",
       "      <th></th>\n",
       "      <th></th>\n",
       "      <th></th>\n",
       "      <th></th>\n",
       "      <th></th>\n",
       "      <th></th>\n",
       "    </tr>\n",
       "  </thead>\n",
       "  <tbody>\n",
       "    <tr>\n",
       "      <th>F</th>\n",
       "      <td>64654.0</td>\n",
       "      <td>42.456113</td>\n",
       "      <td>28.757208</td>\n",
       "      <td>0.0</td>\n",
       "      <td>0.0</td>\n",
       "      <td>52.5</td>\n",
       "      <td>65.0</td>\n",
       "      <td>100.0</td>\n",
       "    </tr>\n",
       "    <tr>\n",
       "      <th>M</th>\n",
       "      <td>35024.0</td>\n",
       "      <td>40.171240</td>\n",
       "      <td>28.505809</td>\n",
       "      <td>0.0</td>\n",
       "      <td>0.0</td>\n",
       "      <td>50.0</td>\n",
       "      <td>62.5</td>\n",
       "      <td>100.0</td>\n",
       "    </tr>\n",
       "  </tbody>\n",
       "</table>\n",
       "</div>"
      ],
      "text/plain": [
       "        NU_NOTA_REDACAO                                                   \n",
       "                  count       mean        std  min  25%   50%   75%    max\n",
       "TP_SEXO                                                                   \n",
       "F               64654.0  42.456113  28.757208  0.0  0.0  52.5  65.0  100.0\n",
       "M               35024.0  40.171240  28.505809  0.0  0.0  50.0  62.5  100.0"
      ]
     },
     "execution_count": 49,
     "metadata": {},
     "output_type": "execute_result"
    }
   ],
   "source": [
    "#Resumo dos dados\n",
    "\n",
    "sexoRedacao.groupby('TP_SEXO').describe()"
   ]
  },
  {
   "cell_type": "markdown",
   "metadata": {},
   "source": [
    "\n",
    "<b>Vamos trabalhar em um novo dataset</b>"
   ]
  },
  {
   "cell_type": "code",
   "execution_count": 50,
   "metadata": {},
   "outputs": [],
   "source": [
    "#Carregando novo dataset\n",
    "\n",
    "enem2018_2 = pd.read_csv(\"Dados/MICRODADOS_ENEM_2008.csv\", sep = \";\", nrows = 100000, encoding = 'ISO-8859-1')"
   ]
  },
  {
   "cell_type": "code",
   "execution_count": 51,
   "metadata": {
    "scrolled": true
   },
   "outputs": [
    {
     "data": {
      "text/plain": [
       "array(['NU_INSCRICAO', 'NU_ANO', 'NU_IDADE', 'TP_SEXO',\n",
       "       'CO_MUNICIPIO_RESIDENCIA', 'NO_MUNICIPIO_RESIDENCIA',\n",
       "       'CO_UF_RESIDENCIA', 'SG_UF_RESIDENCIA', 'TP_ST_CONCLUSAO',\n",
       "       'TP_ENSINO', 'CO_ESCOLA', 'CO_MUNICIPIO_ESC', 'NO_MUNICIPIO_ESC',\n",
       "       'CO_UF_ESC', 'SG_UF_ESC', 'TP_DEPENDENCIA_ADM_ESC',\n",
       "       'TP_LOCALIZACAO_ESC', 'TP_SIT_FUNC_ESC', 'CO_MUNICIPIO_PROVA',\n",
       "       'NO_MUNICIPIO_PROVA', 'CO_UF_PROVA', 'SG_UF_PROVA', 'TP_PRESENCA',\n",
       "       'CO_PROVA', 'VL_PERC_COMP1', 'VL_PERC_COMP2', 'VL_PERC_COMP3',\n",
       "       'VL_PERC_COMP4', 'VL_PERC_COMP5', 'NU_NOTA_OBJETIVA',\n",
       "       'TX_RESPOSTAS_OBJETIVA', 'TX_GABARITO_OBJETIVA',\n",
       "       'TP_STATUS_REDACAO', 'NU_NOTA_COMP1', 'NU_NOTA_COMP2',\n",
       "       'NU_NOTA_COMP3', 'NU_NOTA_COMP4', 'NU_NOTA_COMP5',\n",
       "       'NU_NOTA_REDACAO', 'IN_QSE', 'Q1', 'Q2', 'Q3', 'Q4', 'Q5', 'Q6',\n",
       "       'Q7', 'Q8', 'Q9', 'Q10', 'Q11', 'Q12', 'Q13', 'Q14', 'Q15', 'Q16',\n",
       "       'Q17', 'Q18', 'Q19', 'Q20', 'Q21', 'Q22', 'Q23', 'Q24', 'Q25',\n",
       "       'Q26', 'Q27', 'Q28', 'Q29', 'Q30', 'Q31', 'Q32', 'Q33', 'Q34',\n",
       "       'Q35', 'Q36', 'Q37', 'Q38', 'Q39', 'Q40', 'Q41', 'Q42', 'Q43',\n",
       "       'Q44', 'Q45', 'Q46', 'Q47', 'Q48', 'Q49', 'Q50', 'Q51', 'Q52',\n",
       "       'Q53', 'Q54', 'Q55', 'Q56', 'Q57', 'Q58', 'Q59', 'Q60', 'Q61',\n",
       "       'Q62', 'Q63', 'Q64', 'Q65', 'Q66', 'Q67', 'Q68', 'Q69', 'Q70',\n",
       "       'Q71', 'Q72', 'Q73', 'Q74', 'Q75', 'Q76', 'Q77', 'Q78', 'Q79',\n",
       "       'Q80', 'Q81', 'Q82', 'Q83', 'Q84', 'Q85', 'Q86', 'Q87', 'Q88',\n",
       "       'Q89', 'Q90', 'Q91', 'Q92', 'Q93', 'Q94', 'Q95', 'Q96', 'Q97',\n",
       "       'Q98', 'Q99', 'Q100', 'Q101', 'Q102', 'Q103', 'Q104', 'Q105',\n",
       "       'Q106', 'Q107', 'Q108', 'Q109', 'Q110', 'Q111', 'Q112', 'Q113',\n",
       "       'Q114', 'Q115', 'Q116', 'Q117', 'Q118', 'Q119', 'Q120', 'Q121',\n",
       "       'Q122', 'Q123', 'Q124', 'Q125', 'Q126', 'Q127', 'Q128', 'Q129',\n",
       "       'Q130', 'Q131', 'Q132', 'Q133', 'Q134', 'Q135', 'Q136', 'Q137',\n",
       "       'Q138', 'Q139', 'Q140', 'Q141', 'Q142', 'Q143', 'Q144', 'Q145',\n",
       "       'Q146', 'Q147', 'Q148', 'Q149', 'Q150', 'Q151', 'Q152', 'Q153',\n",
       "       'Q154', 'Q155', 'Q156', 'Q157', 'Q158', 'Q159', 'Q160', 'Q161',\n",
       "       'Q162', 'Q163', 'Q164', 'Q165', 'Q166', 'Q167', 'Q168', 'Q169',\n",
       "       'Q170', 'Q171', 'Q172', 'Q173', 'Q174', 'Q175', 'Q176', 'Q177',\n",
       "       'Q178', 'Q179', 'Q180', 'Q181', 'Q182', 'Q183', 'Q184', 'Q185',\n",
       "       'Q186', 'Q187', 'Q188', 'Q189', 'Q190', 'Q191', 'Q192', 'Q193',\n",
       "       'Q194', 'Q195', 'Q196', 'Q197', 'Q198', 'Q199', 'Q200', 'Q201',\n",
       "       'Q202', 'Q203', 'Q204', 'Q205', 'Q206', 'Q207', 'Q208', 'Q209',\n",
       "       'Q210', 'Q211', 'Q212', 'Q213', 'Q214', 'Q215', 'Q216', 'Q217',\n",
       "       'Q218', 'Q219', 'Q220', 'Q221', 'Q222', 'Q223'], dtype=object)"
      ]
     },
     "execution_count": 51,
     "metadata": {},
     "output_type": "execute_result"
    }
   ],
   "source": [
    "#Verificando as colunas\n",
    "\n",
    "enem2018_2.columns.values"
   ]
  },
  {
   "cell_type": "code",
   "execution_count": 52,
   "metadata": {},
   "outputs": [],
   "source": [
    "#Selecionando as colunas\n",
    "\n",
    "selecionar_colunas = ['NU_INSCRICAO', 'NU_NOTA_OBJETIVA', 'NU_NOTA_REDACAO', 'Q17', 'Q18', 'NU_NOTA_COMP1', 'SG_UF_RESIDENCIA']"
   ]
  },
  {
   "cell_type": "code",
   "execution_count": 53,
   "metadata": {},
   "outputs": [],
   "source": [
    "#Pegando as colunas\n",
    "\n",
    "enem2018_selecionados = enem2018_2.filter(items = selecionar_colunas)"
   ]
  },
  {
   "cell_type": "code",
   "execution_count": 54,
   "metadata": {},
   "outputs": [
    {
     "data": {
      "text/html": [
       "<div>\n",
       "<style scoped>\n",
       "    .dataframe tbody tr th:only-of-type {\n",
       "        vertical-align: middle;\n",
       "    }\n",
       "\n",
       "    .dataframe tbody tr th {\n",
       "        vertical-align: top;\n",
       "    }\n",
       "\n",
       "    .dataframe thead th {\n",
       "        text-align: right;\n",
       "    }\n",
       "</style>\n",
       "<table border=\"1\" class=\"dataframe\">\n",
       "  <thead>\n",
       "    <tr style=\"text-align: right;\">\n",
       "      <th></th>\n",
       "      <th>NU_INSCRICAO</th>\n",
       "      <th>NU_NOTA_OBJETIVA</th>\n",
       "      <th>NU_NOTA_REDACAO</th>\n",
       "      <th>Q17</th>\n",
       "      <th>Q18</th>\n",
       "      <th>NU_NOTA_COMP1</th>\n",
       "      <th>SG_UF_RESIDENCIA</th>\n",
       "    </tr>\n",
       "  </thead>\n",
       "  <tbody>\n",
       "    <tr>\n",
       "      <th>0</th>\n",
       "      <td>200800000016</td>\n",
       "      <td>58.73</td>\n",
       "      <td>37.5</td>\n",
       "      <td>B</td>\n",
       "      <td>B</td>\n",
       "      <td>37.5</td>\n",
       "      <td>MG</td>\n",
       "    </tr>\n",
       "    <tr>\n",
       "      <th>1</th>\n",
       "      <td>200800000024</td>\n",
       "      <td>58.73</td>\n",
       "      <td>55.0</td>\n",
       "      <td>G</td>\n",
       "      <td>H</td>\n",
       "      <td>75.0</td>\n",
       "      <td>SC</td>\n",
       "    </tr>\n",
       "    <tr>\n",
       "      <th>2</th>\n",
       "      <td>200800000032</td>\n",
       "      <td>0.00</td>\n",
       "      <td>0.0</td>\n",
       "      <td>NaN</td>\n",
       "      <td>NaN</td>\n",
       "      <td>0.0</td>\n",
       "      <td>MG</td>\n",
       "    </tr>\n",
       "    <tr>\n",
       "      <th>3</th>\n",
       "      <td>200800000040</td>\n",
       "      <td>65.08</td>\n",
       "      <td>72.5</td>\n",
       "      <td>C</td>\n",
       "      <td>C</td>\n",
       "      <td>87.5</td>\n",
       "      <td>PI</td>\n",
       "    </tr>\n",
       "    <tr>\n",
       "      <th>4</th>\n",
       "      <td>200800000059</td>\n",
       "      <td>31.75</td>\n",
       "      <td>67.5</td>\n",
       "      <td>B</td>\n",
       "      <td>B</td>\n",
       "      <td>75.0</td>\n",
       "      <td>MG</td>\n",
       "    </tr>\n",
       "  </tbody>\n",
       "</table>\n",
       "</div>"
      ],
      "text/plain": [
       "   NU_INSCRICAO  NU_NOTA_OBJETIVA  NU_NOTA_REDACAO  Q17  Q18  NU_NOTA_COMP1  \\\n",
       "0  200800000016             58.73             37.5    B    B           37.5   \n",
       "1  200800000024             58.73             55.0    G    H           75.0   \n",
       "2  200800000032              0.00              0.0  NaN  NaN            0.0   \n",
       "3  200800000040             65.08             72.5    C    C           87.5   \n",
       "4  200800000059             31.75             67.5    B    B           75.0   \n",
       "\n",
       "  SG_UF_RESIDENCIA  \n",
       "0               MG  \n",
       "1               SC  \n",
       "2               MG  \n",
       "3               PI  \n",
       "4               MG  "
      ]
     },
     "execution_count": 54,
     "metadata": {},
     "output_type": "execute_result"
    }
   ],
   "source": [
    "#Lendo as primeiras linhas\n",
    "\n",
    "enem2018_selecionados.head()"
   ]
  },
  {
   "cell_type": "code",
   "execution_count": 55,
   "metadata": {},
   "outputs": [],
   "source": [
    "#Removendo os valores NA\n",
    "\n",
    "enem2018_selecionados = enem2018_selecionados.dropna()"
   ]
  },
  {
   "cell_type": "code",
   "execution_count": 56,
   "metadata": {},
   "outputs": [
    {
     "data": {
      "text/html": [
       "<div>\n",
       "<style scoped>\n",
       "    .dataframe tbody tr th:only-of-type {\n",
       "        vertical-align: middle;\n",
       "    }\n",
       "\n",
       "    .dataframe tbody tr th {\n",
       "        vertical-align: top;\n",
       "    }\n",
       "\n",
       "    .dataframe thead th {\n",
       "        text-align: right;\n",
       "    }\n",
       "</style>\n",
       "<table border=\"1\" class=\"dataframe\">\n",
       "  <thead>\n",
       "    <tr style=\"text-align: right;\">\n",
       "      <th></th>\n",
       "      <th>NU_INSCRICAO</th>\n",
       "      <th>NU_NOTA_OBJETIVA</th>\n",
       "      <th>NU_NOTA_REDACAO</th>\n",
       "      <th>Q17</th>\n",
       "      <th>Q18</th>\n",
       "      <th>NU_NOTA_COMP1</th>\n",
       "      <th>SG_UF_RESIDENCIA</th>\n",
       "    </tr>\n",
       "  </thead>\n",
       "  <tbody>\n",
       "    <tr>\n",
       "      <th>0</th>\n",
       "      <td>200800000016</td>\n",
       "      <td>58.73</td>\n",
       "      <td>37.5</td>\n",
       "      <td>B</td>\n",
       "      <td>B</td>\n",
       "      <td>37.5</td>\n",
       "      <td>MG</td>\n",
       "    </tr>\n",
       "    <tr>\n",
       "      <th>1</th>\n",
       "      <td>200800000024</td>\n",
       "      <td>58.73</td>\n",
       "      <td>55.0</td>\n",
       "      <td>G</td>\n",
       "      <td>H</td>\n",
       "      <td>75.0</td>\n",
       "      <td>SC</td>\n",
       "    </tr>\n",
       "    <tr>\n",
       "      <th>3</th>\n",
       "      <td>200800000040</td>\n",
       "      <td>65.08</td>\n",
       "      <td>72.5</td>\n",
       "      <td>C</td>\n",
       "      <td>C</td>\n",
       "      <td>87.5</td>\n",
       "      <td>PI</td>\n",
       "    </tr>\n",
       "    <tr>\n",
       "      <th>4</th>\n",
       "      <td>200800000059</td>\n",
       "      <td>31.75</td>\n",
       "      <td>67.5</td>\n",
       "      <td>B</td>\n",
       "      <td>B</td>\n",
       "      <td>75.0</td>\n",
       "      <td>MG</td>\n",
       "    </tr>\n",
       "    <tr>\n",
       "      <th>5</th>\n",
       "      <td>200800000067</td>\n",
       "      <td>58.73</td>\n",
       "      <td>45.0</td>\n",
       "      <td>D</td>\n",
       "      <td>E</td>\n",
       "      <td>50.0</td>\n",
       "      <td>MG</td>\n",
       "    </tr>\n",
       "  </tbody>\n",
       "</table>\n",
       "</div>"
      ],
      "text/plain": [
       "   NU_INSCRICAO  NU_NOTA_OBJETIVA  NU_NOTA_REDACAO Q17 Q18  NU_NOTA_COMP1  \\\n",
       "0  200800000016             58.73             37.5   B   B           37.5   \n",
       "1  200800000024             58.73             55.0   G   H           75.0   \n",
       "3  200800000040             65.08             72.5   C   C           87.5   \n",
       "4  200800000059             31.75             67.5   B   B           75.0   \n",
       "5  200800000067             58.73             45.0   D   E           50.0   \n",
       "\n",
       "  SG_UF_RESIDENCIA  \n",
       "0               MG  \n",
       "1               SC  \n",
       "3               PI  \n",
       "4               MG  \n",
       "5               MG  "
      ]
     },
     "execution_count": 56,
     "metadata": {},
     "output_type": "execute_result"
    }
   ],
   "source": [
    "#Lendo as primeiras linhas\n",
    "\n",
    "enem2018_selecionados.head()"
   ]
  },
  {
   "cell_type": "code",
   "execution_count": 57,
   "metadata": {},
   "outputs": [],
   "source": [
    "#Criando um dicionario de dados\n",
    "\n",
    "dicionario = {\n",
    "    '*': 'NA',\n",
    "    '.': 'NA',\n",
    "    'A': 'Não estudou',\n",
    "    'B': 'Da 1ª a 4ª série do ensino fundamental (antigo primário)',\n",
    "    'C': 'Da 5ª a 8ª do ensino fundamental (antigo ginásio)',\n",
    "    'D': 'Ensino Médio (2º grau) incompleto',\n",
    "    'E': 'Ensino Médio (2º grau) completo',\n",
    "    'F': 'Ensino Superior incompleto',\n",
    "    'G': 'Ensino Superior completo',\n",
    "    'H': 'Pós-graduação',\n",
    "    'I': 'Não sei'\n",
    "}"
   ]
  },
  {
   "cell_type": "markdown",
   "metadata": {},
   "source": [
    "\n",
    "\n",
    "<b>Aqui vermos que a maior quantidade das respostas, foi que a mãe estudou da 1ª a 4ª série do ensino fundamental (antigo primário) </b>"
   ]
  },
  {
   "cell_type": "code",
   "execution_count": 58,
   "metadata": {},
   "outputs": [
    {
     "data": {
      "text/html": [
       "<div>\n",
       "<style scoped>\n",
       "    .dataframe tbody tr th:only-of-type {\n",
       "        vertical-align: middle;\n",
       "    }\n",
       "\n",
       "    .dataframe tbody tr th {\n",
       "        vertical-align: top;\n",
       "    }\n",
       "\n",
       "    .dataframe thead th {\n",
       "        text-align: right;\n",
       "    }\n",
       "</style>\n",
       "<table border=\"1\" class=\"dataframe\">\n",
       "  <thead>\n",
       "    <tr style=\"text-align: right;\">\n",
       "      <th></th>\n",
       "      <th>NU_INSCRICAO</th>\n",
       "    </tr>\n",
       "    <tr>\n",
       "      <th>Q18</th>\n",
       "      <th></th>\n",
       "    </tr>\n",
       "  </thead>\n",
       "  <tbody>\n",
       "    <tr>\n",
       "      <th>B</th>\n",
       "      <td>20507</td>\n",
       "    </tr>\n",
       "    <tr>\n",
       "      <th>E</th>\n",
       "      <td>11618</td>\n",
       "    </tr>\n",
       "    <tr>\n",
       "      <th>C</th>\n",
       "      <td>10774</td>\n",
       "    </tr>\n",
       "    <tr>\n",
       "      <th>A</th>\n",
       "      <td>5070</td>\n",
       "    </tr>\n",
       "    <tr>\n",
       "      <th>D</th>\n",
       "      <td>4028</td>\n",
       "    </tr>\n",
       "    <tr>\n",
       "      <th>G</th>\n",
       "      <td>2378</td>\n",
       "    </tr>\n",
       "    <tr>\n",
       "      <th>I</th>\n",
       "      <td>1578</td>\n",
       "    </tr>\n",
       "    <tr>\n",
       "      <th>F</th>\n",
       "      <td>1228</td>\n",
       "    </tr>\n",
       "    <tr>\n",
       "      <th>H</th>\n",
       "      <td>1148</td>\n",
       "    </tr>\n",
       "    <tr>\n",
       "      <th>.</th>\n",
       "      <td>735</td>\n",
       "    </tr>\n",
       "    <tr>\n",
       "      <th>*</th>\n",
       "      <td>80</td>\n",
       "    </tr>\n",
       "  </tbody>\n",
       "</table>\n",
       "</div>"
      ],
      "text/plain": [
       "     NU_INSCRICAO\n",
       "Q18              \n",
       "B           20507\n",
       "E           11618\n",
       "C           10774\n",
       "A            5070\n",
       "D            4028\n",
       "G            2378\n",
       "I            1578\n",
       "F            1228\n",
       "H            1148\n",
       ".             735\n",
       "*              80"
      ]
     },
     "execution_count": 58,
     "metadata": {},
     "output_type": "execute_result"
    }
   ],
   "source": [
    "#Verificando a quantidade da questão 18 - Até quando sua mãe estudou do questionário\n",
    "\n",
    "enem2018_selecionados.filter(items = ['Q18', 'NU_INSCRICAO']).groupby('Q18').count().sort_values(['NU_INSCRICAO'], ascending=[False])"
   ]
  },
  {
   "cell_type": "markdown",
   "metadata": {},
   "source": [
    "\n",
    "\n",
    "<b>Aqui também vermos que a maior quantidade das respostas, foi que o pai estudou da 1ª a 4ª série do ensino fundamental (antigo primário) </b>"
   ]
  },
  {
   "cell_type": "code",
   "execution_count": 59,
   "metadata": {},
   "outputs": [
    {
     "data": {
      "text/html": [
       "<div>\n",
       "<style scoped>\n",
       "    .dataframe tbody tr th:only-of-type {\n",
       "        vertical-align: middle;\n",
       "    }\n",
       "\n",
       "    .dataframe tbody tr th {\n",
       "        vertical-align: top;\n",
       "    }\n",
       "\n",
       "    .dataframe thead th {\n",
       "        text-align: right;\n",
       "    }\n",
       "</style>\n",
       "<table border=\"1\" class=\"dataframe\">\n",
       "  <thead>\n",
       "    <tr style=\"text-align: right;\">\n",
       "      <th></th>\n",
       "      <th>NU_INSCRICAO</th>\n",
       "    </tr>\n",
       "    <tr>\n",
       "      <th>Q17</th>\n",
       "      <th></th>\n",
       "    </tr>\n",
       "  </thead>\n",
       "  <tbody>\n",
       "    <tr>\n",
       "      <th>B</th>\n",
       "      <td>21943</td>\n",
       "    </tr>\n",
       "    <tr>\n",
       "      <th>C</th>\n",
       "      <td>9481</td>\n",
       "    </tr>\n",
       "    <tr>\n",
       "      <th>E</th>\n",
       "      <td>9181</td>\n",
       "    </tr>\n",
       "    <tr>\n",
       "      <th>A</th>\n",
       "      <td>6164</td>\n",
       "    </tr>\n",
       "    <tr>\n",
       "      <th>I</th>\n",
       "      <td>5098</td>\n",
       "    </tr>\n",
       "    <tr>\n",
       "      <th>D</th>\n",
       "      <td>3331</td>\n",
       "    </tr>\n",
       "    <tr>\n",
       "      <th>G</th>\n",
       "      <td>1568</td>\n",
       "    </tr>\n",
       "    <tr>\n",
       "      <th>F</th>\n",
       "      <td>936</td>\n",
       "    </tr>\n",
       "    <tr>\n",
       "      <th>.</th>\n",
       "      <td>824</td>\n",
       "    </tr>\n",
       "    <tr>\n",
       "      <th>H</th>\n",
       "      <td>440</td>\n",
       "    </tr>\n",
       "    <tr>\n",
       "      <th>*</th>\n",
       "      <td>178</td>\n",
       "    </tr>\n",
       "  </tbody>\n",
       "</table>\n",
       "</div>"
      ],
      "text/plain": [
       "     NU_INSCRICAO\n",
       "Q17              \n",
       "B           21943\n",
       "C            9481\n",
       "E            9181\n",
       "A            6164\n",
       "I            5098\n",
       "D            3331\n",
       "G            1568\n",
       "F             936\n",
       ".             824\n",
       "H             440\n",
       "*             178"
      ]
     },
     "execution_count": 59,
     "metadata": {},
     "output_type": "execute_result"
    }
   ],
   "source": [
    "#Verificando a quantidade da questão 17 - Até quando pai estudou do questionário\n",
    "\n",
    "enem2018_selecionados.filter(items = ['Q17', 'NU_INSCRICAO']).groupby('Q17').count().sort_values(['NU_INSCRICAO'], ascending=[False])"
   ]
  },
  {
   "cell_type": "code",
   "execution_count": 60,
   "metadata": {},
   "outputs": [],
   "source": [
    "#Criando nova váriavel e atribuindo ao dicionário\n",
    "\n",
    "enem2018_selecionados['pai_estudou'] = [dicionario[resp] for resp in enem2018_selecionados.Q18]"
   ]
  },
  {
   "cell_type": "code",
   "execution_count": 61,
   "metadata": {},
   "outputs": [
    {
     "data": {
      "text/html": [
       "<div>\n",
       "<style scoped>\n",
       "    .dataframe tbody tr th:only-of-type {\n",
       "        vertical-align: middle;\n",
       "    }\n",
       "\n",
       "    .dataframe tbody tr th {\n",
       "        vertical-align: top;\n",
       "    }\n",
       "\n",
       "    .dataframe thead th {\n",
       "        text-align: right;\n",
       "    }\n",
       "</style>\n",
       "<table border=\"1\" class=\"dataframe\">\n",
       "  <thead>\n",
       "    <tr style=\"text-align: right;\">\n",
       "      <th></th>\n",
       "      <th>NU_INSCRICAO</th>\n",
       "      <th>NU_NOTA_OBJETIVA</th>\n",
       "      <th>NU_NOTA_REDACAO</th>\n",
       "      <th>Q17</th>\n",
       "      <th>Q18</th>\n",
       "      <th>NU_NOTA_COMP1</th>\n",
       "      <th>SG_UF_RESIDENCIA</th>\n",
       "      <th>pai_estudou</th>\n",
       "    </tr>\n",
       "  </thead>\n",
       "  <tbody>\n",
       "    <tr>\n",
       "      <th>0</th>\n",
       "      <td>200800000016</td>\n",
       "      <td>58.73</td>\n",
       "      <td>37.5</td>\n",
       "      <td>B</td>\n",
       "      <td>B</td>\n",
       "      <td>37.5</td>\n",
       "      <td>MG</td>\n",
       "      <td>Da 1ª a 4ª série do ensino fundamental (antigo...</td>\n",
       "    </tr>\n",
       "    <tr>\n",
       "      <th>1</th>\n",
       "      <td>200800000024</td>\n",
       "      <td>58.73</td>\n",
       "      <td>55.0</td>\n",
       "      <td>G</td>\n",
       "      <td>H</td>\n",
       "      <td>75.0</td>\n",
       "      <td>SC</td>\n",
       "      <td>Pós-graduação</td>\n",
       "    </tr>\n",
       "    <tr>\n",
       "      <th>3</th>\n",
       "      <td>200800000040</td>\n",
       "      <td>65.08</td>\n",
       "      <td>72.5</td>\n",
       "      <td>C</td>\n",
       "      <td>C</td>\n",
       "      <td>87.5</td>\n",
       "      <td>PI</td>\n",
       "      <td>Da 5ª a 8ª do ensino fundamental (antigo ginásio)</td>\n",
       "    </tr>\n",
       "    <tr>\n",
       "      <th>4</th>\n",
       "      <td>200800000059</td>\n",
       "      <td>31.75</td>\n",
       "      <td>67.5</td>\n",
       "      <td>B</td>\n",
       "      <td>B</td>\n",
       "      <td>75.0</td>\n",
       "      <td>MG</td>\n",
       "      <td>Da 1ª a 4ª série do ensino fundamental (antigo...</td>\n",
       "    </tr>\n",
       "    <tr>\n",
       "      <th>5</th>\n",
       "      <td>200800000067</td>\n",
       "      <td>58.73</td>\n",
       "      <td>45.0</td>\n",
       "      <td>D</td>\n",
       "      <td>E</td>\n",
       "      <td>50.0</td>\n",
       "      <td>MG</td>\n",
       "      <td>Ensino Médio (2º grau) completo</td>\n",
       "    </tr>\n",
       "  </tbody>\n",
       "</table>\n",
       "</div>"
      ],
      "text/plain": [
       "   NU_INSCRICAO  NU_NOTA_OBJETIVA  NU_NOTA_REDACAO Q17 Q18  NU_NOTA_COMP1  \\\n",
       "0  200800000016             58.73             37.5   B   B           37.5   \n",
       "1  200800000024             58.73             55.0   G   H           75.0   \n",
       "3  200800000040             65.08             72.5   C   C           87.5   \n",
       "4  200800000059             31.75             67.5   B   B           75.0   \n",
       "5  200800000067             58.73             45.0   D   E           50.0   \n",
       "\n",
       "  SG_UF_RESIDENCIA                                        pai_estudou  \n",
       "0               MG  Da 1ª a 4ª série do ensino fundamental (antigo...  \n",
       "1               SC                                      Pós-graduação  \n",
       "3               PI  Da 5ª a 8ª do ensino fundamental (antigo ginásio)  \n",
       "4               MG  Da 1ª a 4ª série do ensino fundamental (antigo...  \n",
       "5               MG                    Ensino Médio (2º grau) completo  "
      ]
     },
     "execution_count": 61,
     "metadata": {},
     "output_type": "execute_result"
    }
   ],
   "source": [
    "enem2018_selecionados.head()"
   ]
  },
  {
   "cell_type": "code",
   "execution_count": 62,
   "metadata": {},
   "outputs": [
    {
     "data": {
      "text/html": [
       "<div>\n",
       "<style scoped>\n",
       "    .dataframe tbody tr th:only-of-type {\n",
       "        vertical-align: middle;\n",
       "    }\n",
       "\n",
       "    .dataframe tbody tr th {\n",
       "        vertical-align: top;\n",
       "    }\n",
       "\n",
       "    .dataframe thead th {\n",
       "        text-align: right;\n",
       "    }\n",
       "</style>\n",
       "<table border=\"1\" class=\"dataframe\">\n",
       "  <thead>\n",
       "    <tr style=\"text-align: right;\">\n",
       "      <th></th>\n",
       "      <th>NU_INSCRICAO</th>\n",
       "    </tr>\n",
       "    <tr>\n",
       "      <th>pai_estudou</th>\n",
       "      <th></th>\n",
       "    </tr>\n",
       "  </thead>\n",
       "  <tbody>\n",
       "    <tr>\n",
       "      <th>Da 1ª a 4ª série do ensino fundamental (antigo primário)</th>\n",
       "      <td>20507</td>\n",
       "    </tr>\n",
       "    <tr>\n",
       "      <th>Ensino Médio (2º grau) completo</th>\n",
       "      <td>11618</td>\n",
       "    </tr>\n",
       "    <tr>\n",
       "      <th>Da 5ª a 8ª do ensino fundamental (antigo ginásio)</th>\n",
       "      <td>10774</td>\n",
       "    </tr>\n",
       "    <tr>\n",
       "      <th>Não estudou</th>\n",
       "      <td>5070</td>\n",
       "    </tr>\n",
       "    <tr>\n",
       "      <th>Ensino Médio (2º grau) incompleto</th>\n",
       "      <td>4028</td>\n",
       "    </tr>\n",
       "    <tr>\n",
       "      <th>Ensino Superior completo</th>\n",
       "      <td>2378</td>\n",
       "    </tr>\n",
       "    <tr>\n",
       "      <th>Não sei</th>\n",
       "      <td>1578</td>\n",
       "    </tr>\n",
       "    <tr>\n",
       "      <th>Ensino Superior incompleto</th>\n",
       "      <td>1228</td>\n",
       "    </tr>\n",
       "    <tr>\n",
       "      <th>Pós-graduação</th>\n",
       "      <td>1148</td>\n",
       "    </tr>\n",
       "    <tr>\n",
       "      <th>NA</th>\n",
       "      <td>815</td>\n",
       "    </tr>\n",
       "  </tbody>\n",
       "</table>\n",
       "</div>"
      ],
      "text/plain": [
       "                                                    NU_INSCRICAO\n",
       "pai_estudou                                                     \n",
       "Da 1ª a 4ª série do ensino fundamental (antigo ...         20507\n",
       "Ensino Médio (2º grau) completo                            11618\n",
       "Da 5ª a 8ª do ensino fundamental (antigo ginásio)          10774\n",
       "Não estudou                                                 5070\n",
       "Ensino Médio (2º grau) incompleto                           4028\n",
       "Ensino Superior completo                                    2378\n",
       "Não sei                                                     1578\n",
       "Ensino Superior incompleto                                  1228\n",
       "Pós-graduação                                               1148\n",
       "NA                                                           815"
      ]
     },
     "execution_count": 62,
     "metadata": {},
     "output_type": "execute_result"
    }
   ],
   "source": [
    "#Realizando a contagem\n",
    "\n",
    "enem2018_selecionados.filter(items = ['pai_estudou', 'NU_INSCRICAO']).groupby('pai_estudou').count().sort_values(['NU_INSCRICAO'], ascending=[False])"
   ]
  },
  {
   "cell_type": "code",
   "execution_count": 65,
   "metadata": {},
   "outputs": [],
   "source": [
    "#Criando nova váriavel e atribuindo ao dicionário\n",
    "\n",
    "enem2018_selecionados['mae_estudou'] = [dicionario[resp] for resp in enem2018_selecionados.Q18]"
   ]
  },
  {
   "cell_type": "code",
   "execution_count": 66,
   "metadata": {},
   "outputs": [
    {
     "data": {
      "text/html": [
       "<div>\n",
       "<style scoped>\n",
       "    .dataframe tbody tr th:only-of-type {\n",
       "        vertical-align: middle;\n",
       "    }\n",
       "\n",
       "    .dataframe tbody tr th {\n",
       "        vertical-align: top;\n",
       "    }\n",
       "\n",
       "    .dataframe thead th {\n",
       "        text-align: right;\n",
       "    }\n",
       "</style>\n",
       "<table border=\"1\" class=\"dataframe\">\n",
       "  <thead>\n",
       "    <tr style=\"text-align: right;\">\n",
       "      <th></th>\n",
       "      <th>NU_INSCRICAO</th>\n",
       "    </tr>\n",
       "    <tr>\n",
       "      <th>mae_estudou</th>\n",
       "      <th></th>\n",
       "    </tr>\n",
       "  </thead>\n",
       "  <tbody>\n",
       "    <tr>\n",
       "      <th>Da 1ª a 4ª série do ensino fundamental (antigo primário)</th>\n",
       "      <td>20507</td>\n",
       "    </tr>\n",
       "    <tr>\n",
       "      <th>Ensino Médio (2º grau) completo</th>\n",
       "      <td>11618</td>\n",
       "    </tr>\n",
       "    <tr>\n",
       "      <th>Da 5ª a 8ª do ensino fundamental (antigo ginásio)</th>\n",
       "      <td>10774</td>\n",
       "    </tr>\n",
       "    <tr>\n",
       "      <th>Não estudou</th>\n",
       "      <td>5070</td>\n",
       "    </tr>\n",
       "    <tr>\n",
       "      <th>Ensino Médio (2º grau) incompleto</th>\n",
       "      <td>4028</td>\n",
       "    </tr>\n",
       "    <tr>\n",
       "      <th>Ensino Superior completo</th>\n",
       "      <td>2378</td>\n",
       "    </tr>\n",
       "    <tr>\n",
       "      <th>Não sei</th>\n",
       "      <td>1578</td>\n",
       "    </tr>\n",
       "    <tr>\n",
       "      <th>Ensino Superior incompleto</th>\n",
       "      <td>1228</td>\n",
       "    </tr>\n",
       "    <tr>\n",
       "      <th>Pós-graduação</th>\n",
       "      <td>1148</td>\n",
       "    </tr>\n",
       "    <tr>\n",
       "      <th>NA</th>\n",
       "      <td>815</td>\n",
       "    </tr>\n",
       "  </tbody>\n",
       "</table>\n",
       "</div>"
      ],
      "text/plain": [
       "                                                    NU_INSCRICAO\n",
       "mae_estudou                                                     \n",
       "Da 1ª a 4ª série do ensino fundamental (antigo ...         20507\n",
       "Ensino Médio (2º grau) completo                            11618\n",
       "Da 5ª a 8ª do ensino fundamental (antigo ginásio)          10774\n",
       "Não estudou                                                 5070\n",
       "Ensino Médio (2º grau) incompleto                           4028\n",
       "Ensino Superior completo                                    2378\n",
       "Não sei                                                     1578\n",
       "Ensino Superior incompleto                                  1228\n",
       "Pós-graduação                                               1148\n",
       "NA                                                           815"
      ]
     },
     "execution_count": 66,
     "metadata": {},
     "output_type": "execute_result"
    }
   ],
   "source": [
    "#Realizando a contagem\n",
    "\n",
    "enem2018_selecionados.filter(items = ['mae_estudou', 'NU_INSCRICAO']).groupby('mae_estudou').count().sort_values(['NU_INSCRICAO'], ascending=[False])"
   ]
  },
  {
   "cell_type": "markdown",
   "metadata": {},
   "source": [
    "\n",
    "<b>Aqui vermos que a média da escolaridade da mãe é de ensino superior incompleto</b>"
   ]
  },
  {
   "cell_type": "code",
   "execution_count": 66,
   "metadata": {},
   "outputs": [
    {
     "data": {
      "text/html": [
       "<div>\n",
       "<style scoped>\n",
       "    .dataframe tbody tr th:only-of-type {\n",
       "        vertical-align: middle;\n",
       "    }\n",
       "\n",
       "    .dataframe tbody tr th {\n",
       "        vertical-align: top;\n",
       "    }\n",
       "\n",
       "    .dataframe thead th {\n",
       "        text-align: right;\n",
       "    }\n",
       "</style>\n",
       "<table border=\"1\" class=\"dataframe\">\n",
       "  <thead>\n",
       "    <tr style=\"text-align: right;\">\n",
       "      <th></th>\n",
       "      <th>NU_NOTA_COMP1</th>\n",
       "    </tr>\n",
       "    <tr>\n",
       "      <th>mae_estudou</th>\n",
       "      <th></th>\n",
       "    </tr>\n",
       "  </thead>\n",
       "  <tbody>\n",
       "    <tr>\n",
       "      <th>Ensino Superior incompleto</th>\n",
       "      <td>67.614850</td>\n",
       "    </tr>\n",
       "    <tr>\n",
       "      <th>Ensino Superior completo</th>\n",
       "      <td>66.860651</td>\n",
       "    </tr>\n",
       "    <tr>\n",
       "      <th>Ensino Médio (2º grau) completo</th>\n",
       "      <td>65.585176</td>\n",
       "    </tr>\n",
       "    <tr>\n",
       "      <th>Pós-graduação</th>\n",
       "      <td>65.511364</td>\n",
       "    </tr>\n",
       "    <tr>\n",
       "      <th>Ensino Médio (2º grau) incompleto</th>\n",
       "      <td>64.867908</td>\n",
       "    </tr>\n",
       "    <tr>\n",
       "      <th>Da 5ª a 8ª do ensino fundamental (antigo ginásio)</th>\n",
       "      <td>63.715589</td>\n",
       "    </tr>\n",
       "    <tr>\n",
       "      <th>Da 1ª a 4ª série do ensino fundamental (antigo primário)</th>\n",
       "      <td>62.853757</td>\n",
       "    </tr>\n",
       "    <tr>\n",
       "      <th>Não sei</th>\n",
       "      <td>60.634072</td>\n",
       "    </tr>\n",
       "    <tr>\n",
       "      <th>Não estudou</th>\n",
       "      <td>59.733939</td>\n",
       "    </tr>\n",
       "    <tr>\n",
       "      <th>NA</th>\n",
       "      <td>59.293912</td>\n",
       "    </tr>\n",
       "  </tbody>\n",
       "</table>\n",
       "</div>"
      ],
      "text/plain": [
       "                                                    NU_NOTA_COMP1\n",
       "mae_estudou                                                      \n",
       "Ensino Superior incompleto                              67.614850\n",
       "Ensino Superior completo                                66.860651\n",
       "Ensino Médio (2º grau) completo                         65.585176\n",
       "Pós-graduação                                           65.511364\n",
       "Ensino Médio (2º grau) incompleto                       64.867908\n",
       "Da 5ª a 8ª do ensino fundamental (antigo ginásio)       63.715589\n",
       "Da 1ª a 4ª série do ensino fundamental (antigo ...      62.853757\n",
       "Não sei                                                 60.634072\n",
       "Não estudou                                             59.733939\n",
       "NA                                                      59.293912"
      ]
     },
     "execution_count": 66,
     "metadata": {},
     "output_type": "execute_result"
    }
   ],
   "source": [
    "#Realizando média e ordenando pelo NU_NOTA_COMP1 pela mãe\n",
    "\n",
    "enem2018_selecionados.filter(items = ['mae_estudou', 'NU_NOTA_COMP1']).groupby('mae_estudou')\\\n",
    ".mean().sort_values(['NU_NOTA_COMP1'], ascending=[False])"
   ]
  },
  {
   "cell_type": "markdown",
   "metadata": {},
   "source": [
    "\n",
    "<b>Aqui vermos que a média da escolaridade da pai também é de ensino superior incompleto</b>"
   ]
  },
  {
   "cell_type": "code",
   "execution_count": 68,
   "metadata": {},
   "outputs": [
    {
     "data": {
      "text/html": [
       "<div>\n",
       "<style scoped>\n",
       "    .dataframe tbody tr th:only-of-type {\n",
       "        vertical-align: middle;\n",
       "    }\n",
       "\n",
       "    .dataframe tbody tr th {\n",
       "        vertical-align: top;\n",
       "    }\n",
       "\n",
       "    .dataframe thead th {\n",
       "        text-align: right;\n",
       "    }\n",
       "</style>\n",
       "<table border=\"1\" class=\"dataframe\">\n",
       "  <thead>\n",
       "    <tr style=\"text-align: right;\">\n",
       "      <th></th>\n",
       "      <th>NU_NOTA_COMP1</th>\n",
       "    </tr>\n",
       "    <tr>\n",
       "      <th>pai_estudou</th>\n",
       "      <th></th>\n",
       "    </tr>\n",
       "  </thead>\n",
       "  <tbody>\n",
       "    <tr>\n",
       "      <th>Ensino Superior incompleto</th>\n",
       "      <td>67.274023</td>\n",
       "    </tr>\n",
       "    <tr>\n",
       "      <th>Ensino Superior completo</th>\n",
       "      <td>67.146762</td>\n",
       "    </tr>\n",
       "    <tr>\n",
       "      <th>Pós-graduação</th>\n",
       "      <td>66.735627</td>\n",
       "    </tr>\n",
       "    <tr>\n",
       "      <th>Ensino Médio (2º grau) completo</th>\n",
       "      <td>65.210234</td>\n",
       "    </tr>\n",
       "    <tr>\n",
       "      <th>Ensino Médio (2º grau) incompleto</th>\n",
       "      <td>63.573734</td>\n",
       "    </tr>\n",
       "    <tr>\n",
       "      <th>Da 5ª a 8ª do ensino fundamental (antigo ginásio)</th>\n",
       "      <td>63.336505</td>\n",
       "    </tr>\n",
       "    <tr>\n",
       "      <th>Da 1ª a 4ª série do ensino fundamental (antigo primário)</th>\n",
       "      <td>62.506095</td>\n",
       "    </tr>\n",
       "    <tr>\n",
       "      <th>Não estudou</th>\n",
       "      <td>58.962032</td>\n",
       "    </tr>\n",
       "    <tr>\n",
       "      <th>NA</th>\n",
       "      <td>58.634969</td>\n",
       "    </tr>\n",
       "    <tr>\n",
       "      <th>Não sei</th>\n",
       "      <td>58.087769</td>\n",
       "    </tr>\n",
       "  </tbody>\n",
       "</table>\n",
       "</div>"
      ],
      "text/plain": [
       "                                                    NU_NOTA_COMP1\n",
       "pai_estudou                                                      \n",
       "Ensino Superior incompleto                              67.274023\n",
       "Ensino Superior completo                                67.146762\n",
       "Pós-graduação                                           66.735627\n",
       "Ensino Médio (2º grau) completo                         65.210234\n",
       "Ensino Médio (2º grau) incompleto                       63.573734\n",
       "Da 5ª a 8ª do ensino fundamental (antigo ginásio)       63.336505\n",
       "Da 1ª a 4ª série do ensino fundamental (antigo ...      62.506095\n",
       "Não estudou                                             58.962032\n",
       "NA                                                      58.634969\n",
       "Não sei                                                 58.087769"
      ]
     },
     "execution_count": 68,
     "metadata": {},
     "output_type": "execute_result"
    }
   ],
   "source": [
    "#Realizando média e ordenando pelo NU_NOTA_COMP1 pelo pai\n",
    "\n",
    "enem2018_selecionados.filter(items = ['pai_estudou', 'NU_NOTA_COMP1']).groupby('pai_estudou')\\\n",
    ".mean().sort_values(['NU_NOTA_COMP1'], ascending=[False])"
   ]
  },
  {
   "cell_type": "code",
   "execution_count": 69,
   "metadata": {},
   "outputs": [],
   "source": [
    "#Salvando em uma variável\n",
    "\n",
    "pai_comp1 = enem2018_selecionados.filter(items = ['pai_estudou', 'NU_NOTA_COMP1']).groupby('pai_estudou')\\\n",
    ".mean().sort_values(['NU_NOTA_COMP1'], ascending=[False])"
   ]
  },
  {
   "cell_type": "code",
   "execution_count": 70,
   "metadata": {},
   "outputs": [
    {
     "data": {
      "text/plain": [
       "<matplotlib.axes._subplots.AxesSubplot at 0x294f7028ba8>"
      ]
     },
     "execution_count": 70,
     "metadata": {},
     "output_type": "execute_result"
    },
    {
     "data": {
      "image/png": "[encoded data removed]",
      "text/plain": [
       "<Figure size 432x288 with 1 Axes>"
      ]
     },
     "metadata": {
      "needs_background": "light"
     },
     "output_type": "display_data"
    }
   ],
   "source": [
    "#Criando um gráfico das notas\n",
    "\n",
    "pai_comp1.plot()"
   ]
  },
  {
   "cell_type": "code",
   "execution_count": 71,
   "metadata": {},
   "outputs": [
    {
     "data": {
      "text/html": [
       "<div>\n",
       "<style scoped>\n",
       "    .dataframe tbody tr th:only-of-type {\n",
       "        vertical-align: middle;\n",
       "    }\n",
       "\n",
       "    .dataframe tbody tr th {\n",
       "        vertical-align: top;\n",
       "    }\n",
       "\n",
       "    .dataframe thead th {\n",
       "        text-align: right;\n",
       "    }\n",
       "</style>\n",
       "<table border=\"1\" class=\"dataframe\">\n",
       "  <thead>\n",
       "    <tr style=\"text-align: right;\">\n",
       "      <th></th>\n",
       "      <th>NU_NOTA_COMP1</th>\n",
       "    </tr>\n",
       "  </thead>\n",
       "  <tbody>\n",
       "    <tr>\n",
       "      <th>count</th>\n",
       "      <td>10.000000</td>\n",
       "    </tr>\n",
       "    <tr>\n",
       "      <th>mean</th>\n",
       "      <td>63.146775</td>\n",
       "    </tr>\n",
       "    <tr>\n",
       "      <th>std</th>\n",
       "      <td>3.563122</td>\n",
       "    </tr>\n",
       "    <tr>\n",
       "      <th>min</th>\n",
       "      <td>58.087769</td>\n",
       "    </tr>\n",
       "    <tr>\n",
       "      <th>25%</th>\n",
       "      <td>59.848048</td>\n",
       "    </tr>\n",
       "    <tr>\n",
       "      <th>50%</th>\n",
       "      <td>63.455119</td>\n",
       "    </tr>\n",
       "    <tr>\n",
       "      <th>75%</th>\n",
       "      <td>66.354279</td>\n",
       "    </tr>\n",
       "    <tr>\n",
       "      <th>max</th>\n",
       "      <td>67.274023</td>\n",
       "    </tr>\n",
       "  </tbody>\n",
       "</table>\n",
       "</div>"
      ],
      "text/plain": [
       "       NU_NOTA_COMP1\n",
       "count      10.000000\n",
       "mean       63.146775\n",
       "std         3.563122\n",
       "min        58.087769\n",
       "25%        59.848048\n",
       "50%        63.455119\n",
       "75%        66.354279\n",
       "max        67.274023"
      ]
     },
     "execution_count": 71,
     "metadata": {},
     "output_type": "execute_result"
    }
   ],
   "source": [
    "#Resumo dos dados\n",
    "\n",
    "pai_comp1.describe()"
   ]
  },
  {
   "cell_type": "markdown",
   "metadata": {},
   "source": [
    "\n",
    "<b>vamos criar uma nova forma de tratar os dados</b>"
   ]
  },
  {
   "cell_type": "code",
   "execution_count": 75,
   "metadata": {},
   "outputs": [],
   "source": [
    "#Criando outra analise a uma nova coluna\n",
    "\n",
    "enem2018_selecionados['SG_UF_RESIDENCIA'] = enem2018_selecionados.SG_UF_RESIDENCIA"
   ]
  },
  {
   "cell_type": "code",
   "execution_count": 76,
   "metadata": {},
   "outputs": [
    {
     "data": {
      "text/html": [
       "<div>\n",
       "<style scoped>\n",
       "    .dataframe tbody tr th:only-of-type {\n",
       "        vertical-align: middle;\n",
       "    }\n",
       "\n",
       "    .dataframe tbody tr th {\n",
       "        vertical-align: top;\n",
       "    }\n",
       "\n",
       "    .dataframe thead th {\n",
       "        text-align: right;\n",
       "    }\n",
       "</style>\n",
       "<table border=\"1\" class=\"dataframe\">\n",
       "  <thead>\n",
       "    <tr style=\"text-align: right;\">\n",
       "      <th></th>\n",
       "      <th>NU_INSCRICAO</th>\n",
       "      <th>NU_NOTA_OBJETIVA</th>\n",
       "      <th>NU_NOTA_REDACAO</th>\n",
       "      <th>Q17</th>\n",
       "      <th>Q18</th>\n",
       "      <th>NU_NOTA_COMP1</th>\n",
       "      <th>SG_UF_RESIDENCIA</th>\n",
       "      <th>pai_estudou</th>\n",
       "      <th>mae_estudou</th>\n",
       "    </tr>\n",
       "  </thead>\n",
       "  <tbody>\n",
       "    <tr>\n",
       "      <th>0</th>\n",
       "      <td>200800000016</td>\n",
       "      <td>58.73</td>\n",
       "      <td>37.5</td>\n",
       "      <td>B</td>\n",
       "      <td>B</td>\n",
       "      <td>37.5</td>\n",
       "      <td>MG</td>\n",
       "      <td>Da 1ª a 4ª série do ensino fundamental (antigo...</td>\n",
       "      <td>Da 1ª a 4ª série do ensino fundamental (antigo...</td>\n",
       "    </tr>\n",
       "    <tr>\n",
       "      <th>1</th>\n",
       "      <td>200800000024</td>\n",
       "      <td>58.73</td>\n",
       "      <td>55.0</td>\n",
       "      <td>G</td>\n",
       "      <td>H</td>\n",
       "      <td>75.0</td>\n",
       "      <td>SC</td>\n",
       "      <td>Pós-graduação</td>\n",
       "      <td>Pós-graduação</td>\n",
       "    </tr>\n",
       "    <tr>\n",
       "      <th>3</th>\n",
       "      <td>200800000040</td>\n",
       "      <td>65.08</td>\n",
       "      <td>72.5</td>\n",
       "      <td>C</td>\n",
       "      <td>C</td>\n",
       "      <td>87.5</td>\n",
       "      <td>PI</td>\n",
       "      <td>Da 5ª a 8ª do ensino fundamental (antigo ginásio)</td>\n",
       "      <td>Da 5ª a 8ª do ensino fundamental (antigo ginásio)</td>\n",
       "    </tr>\n",
       "    <tr>\n",
       "      <th>4</th>\n",
       "      <td>200800000059</td>\n",
       "      <td>31.75</td>\n",
       "      <td>67.5</td>\n",
       "      <td>B</td>\n",
       "      <td>B</td>\n",
       "      <td>75.0</td>\n",
       "      <td>MG</td>\n",
       "      <td>Da 1ª a 4ª série do ensino fundamental (antigo...</td>\n",
       "      <td>Da 1ª a 4ª série do ensino fundamental (antigo...</td>\n",
       "    </tr>\n",
       "    <tr>\n",
       "      <th>5</th>\n",
       "      <td>200800000067</td>\n",
       "      <td>58.73</td>\n",
       "      <td>45.0</td>\n",
       "      <td>D</td>\n",
       "      <td>E</td>\n",
       "      <td>50.0</td>\n",
       "      <td>MG</td>\n",
       "      <td>Ensino Médio (2º grau) completo</td>\n",
       "      <td>Ensino Médio (2º grau) completo</td>\n",
       "    </tr>\n",
       "  </tbody>\n",
       "</table>\n",
       "</div>"
      ],
      "text/plain": [
       "   NU_INSCRICAO  NU_NOTA_OBJETIVA  NU_NOTA_REDACAO Q17 Q18  NU_NOTA_COMP1  \\\n",
       "0  200800000016             58.73             37.5   B   B           37.5   \n",
       "1  200800000024             58.73             55.0   G   H           75.0   \n",
       "3  200800000040             65.08             72.5   C   C           87.5   \n",
       "4  200800000059             31.75             67.5   B   B           75.0   \n",
       "5  200800000067             58.73             45.0   D   E           50.0   \n",
       "\n",
       "  SG_UF_RESIDENCIA                                        pai_estudou  \\\n",
       "0               MG  Da 1ª a 4ª série do ensino fundamental (antigo...   \n",
       "1               SC                                      Pós-graduação   \n",
       "3               PI  Da 5ª a 8ª do ensino fundamental (antigo ginásio)   \n",
       "4               MG  Da 1ª a 4ª série do ensino fundamental (antigo...   \n",
       "5               MG                    Ensino Médio (2º grau) completo   \n",
       "\n",
       "                                         mae_estudou  \n",
       "0  Da 1ª a 4ª série do ensino fundamental (antigo...  \n",
       "1                                      Pós-graduação  \n",
       "3  Da 5ª a 8ª do ensino fundamental (antigo ginásio)  \n",
       "4  Da 1ª a 4ª série do ensino fundamental (antigo...  \n",
       "5                    Ensino Médio (2º grau) completo  "
      ]
     },
     "execution_count": 76,
     "metadata": {},
     "output_type": "execute_result"
    }
   ],
   "source": [
    "enem2018_selecionados.head()"
   ]
  },
  {
   "cell_type": "code",
   "execution_count": 77,
   "metadata": {},
   "outputs": [
    {
     "data": {
      "text/html": [
       "<div>\n",
       "<style scoped>\n",
       "    .dataframe tbody tr th:only-of-type {\n",
       "        vertical-align: middle;\n",
       "    }\n",
       "\n",
       "    .dataframe tbody tr th {\n",
       "        vertical-align: top;\n",
       "    }\n",
       "\n",
       "    .dataframe thead th {\n",
       "        text-align: right;\n",
       "    }\n",
       "</style>\n",
       "<table border=\"1\" class=\"dataframe\">\n",
       "  <thead>\n",
       "    <tr style=\"text-align: right;\">\n",
       "      <th></th>\n",
       "      <th>NU_NOTA_COMP1</th>\n",
       "    </tr>\n",
       "    <tr>\n",
       "      <th>pai_estudou</th>\n",
       "      <th></th>\n",
       "    </tr>\n",
       "  </thead>\n",
       "  <tbody>\n",
       "    <tr>\n",
       "      <th>Ensino Superior incompleto</th>\n",
       "      <td>67.852394</td>\n",
       "    </tr>\n",
       "    <tr>\n",
       "      <th>Ensino Superior completo</th>\n",
       "      <td>67.472973</td>\n",
       "    </tr>\n",
       "    <tr>\n",
       "      <th>Ensino Médio (2º grau) completo</th>\n",
       "      <td>66.548370</td>\n",
       "    </tr>\n",
       "    <tr>\n",
       "      <th>Pós-graduação</th>\n",
       "      <td>65.889831</td>\n",
       "    </tr>\n",
       "    <tr>\n",
       "      <th>Da 5ª a 8ª do ensino fundamental (antigo ginásio)</th>\n",
       "      <td>65.203796</td>\n",
       "    </tr>\n",
       "    <tr>\n",
       "      <th>Ensino Médio (2º grau) incompleto</th>\n",
       "      <td>65.165608</td>\n",
       "    </tr>\n",
       "    <tr>\n",
       "      <th>Da 1ª a 4ª série do ensino fundamental (antigo primário)</th>\n",
       "      <td>64.051604</td>\n",
       "    </tr>\n",
       "    <tr>\n",
       "      <th>Não estudou</th>\n",
       "      <td>61.174408</td>\n",
       "    </tr>\n",
       "    <tr>\n",
       "      <th>NA</th>\n",
       "      <td>61.168033</td>\n",
       "    </tr>\n",
       "    <tr>\n",
       "      <th>Não sei</th>\n",
       "      <td>59.281843</td>\n",
       "    </tr>\n",
       "  </tbody>\n",
       "</table>\n",
       "</div>"
      ],
      "text/plain": [
       "                                                    NU_NOTA_COMP1\n",
       "pai_estudou                                                      \n",
       "Ensino Superior incompleto                              67.852394\n",
       "Ensino Superior completo                                67.472973\n",
       "Ensino Médio (2º grau) completo                         66.548370\n",
       "Pós-graduação                                           65.889831\n",
       "Da 5ª a 8ª do ensino fundamental (antigo ginásio)       65.203796\n",
       "Ensino Médio (2º grau) incompleto                       65.165608\n",
       "Da 1ª a 4ª série do ensino fundamental (antigo ...      64.051604\n",
       "Não estudou                                             61.174408\n",
       "NA                                                      61.168033\n",
       "Não sei                                                 59.281843"
      ]
     },
     "execution_count": 77,
     "metadata": {},
     "output_type": "execute_result"
    }
   ],
   "source": [
    "#Filtando por localidade\n",
    "\n",
    "enem2018_selecionados.filter(items = ['pai_estudou', 'NU_NOTA_COMP1'])\\\n",
    "                                    .where(enem2018_selecionados.SG_UF_RESIDENCIA == 'MG')\\\n",
    "                                    .groupby('pai_estudou')\\\n",
    "                                    .mean().sort_values(['NU_NOTA_COMP1'], ascending=[False])"
   ]
  },
  {
   "cell_type": "code",
   "execution_count": 80,
   "metadata": {},
   "outputs": [],
   "source": [
    "#Criando novos dados para o gráfico\n",
    "\n",
    "enem2018_3 = pd.read_csv(\"Dados/MICRODADOS_ENEM_2008.csv\", sep = \";\", nrows = 1000, encoding = 'ISO-8859-1')\n",
    "\n",
    "selecionar_colunas2 = ['NU_INSCRICAO', 'NU_NOTA_OBJETIVA', 'NU_NOTA_REDACAO', 'Q17', 'Q18', 'NU_NOTA_COMP1', 'SG_UF_RESIDENCIA']\n",
    "\n",
    "enem2018_selecionados2 = enem2018_3.filter(items = selecionar_colunas2)"
   ]
  },
  {
   "cell_type": "code",
   "execution_count": 79,
   "metadata": {},
   "outputs": [
    {
     "data": {
      "image/png": "[encoded data removed]",
      "text/plain": [
       "<Figure size 432x288 with 1 Axes>"
      ]
     },
     "metadata": {
      "needs_background": "light"
     },
     "output_type": "display_data"
    }
   ],
   "source": [
    "#Criando gráfico\n",
    "\n",
    "import matplotlib.pyplot as plt\n",
    "\n",
    "plt.bar(enem2018_selecionados2.SG_UF_RESIDENCIA, enem2018_selecionados2.NU_NOTA_COMP1, color = 'blue', width = 0.6)\n",
    "\n",
    "plt.xticks(enem2018_selecionados2.SG_UF_RESIDENCIA)\n",
    "plt.ylabel('Nota Competição 1')\n",
    "plt.xlabel('UF Residencia')\n",
    "plt.title('UF Residencia X Nota Competição 1')\n",
    "plt.show()"
   ]
  },
  {
   "cell_type": "markdown",
   "metadata": {},
   "source": [
    "\n",
    "<b>Caso queria carregar dataset, selecionando apenas as colunas</b>"
   ]
  },
  {
   "cell_type": "code",
   "execution_count": 88,
   "metadata": {},
   "outputs": [],
   "source": [
    "#Criando outro dataset apenas selecionando umas colunas\n",
    "\n",
    "selecionar_colunas3 = ['NU_INSCRICAO', 'NU_NOTA_OBJETIVA', 'NU_NOTA_REDACAO', 'Q17', 'Q18', 'NU_NOTA_COMP1', 'SG_UF_RESIDENCIA']\n",
    "\n",
    "enem2018_colunas = pd.read_csv(\"Dados/MICRODADOS_ENEM_2008.csv\", sep = \";\", usecols = selecionar_colunas3, encoding = 'ISO-8859-1')"
   ]
  },
  {
   "cell_type": "code",
   "execution_count": 89,
   "metadata": {},
   "outputs": [
    {
     "name": "stdout",
     "output_type": "stream",
     "text": [
      "<class 'pandas.core.frame.DataFrame'>\n",
      "RangeIndex: 4018070 entries, 0 to 4018069\n",
      "Data columns (total 7 columns):\n",
      "NU_INSCRICAO        int64\n",
      "SG_UF_RESIDENCIA    object\n",
      "NU_NOTA_OBJETIVA    float64\n",
      "NU_NOTA_COMP1       float64\n",
      "NU_NOTA_REDACAO     float64\n",
      "Q17                 object\n",
      "Q18                 object\n",
      "dtypes: float64(3), int64(1), object(3)\n",
      "memory usage: 736.0 MB\n"
     ]
    }
   ],
   "source": [
    "#Olhar o consumo de memória que neste caso foi de 736 MB\n",
    "\n",
    "enem2018_colunas.info(memory_usage = 'deep')"
   ]
  },
  {
   "cell_type": "code",
   "execution_count": 90,
   "metadata": {},
   "outputs": [
    {
     "data": {
      "text/html": [
       "<div>\n",
       "<style scoped>\n",
       "    .dataframe tbody tr th:only-of-type {\n",
       "        vertical-align: middle;\n",
       "    }\n",
       "\n",
       "    .dataframe tbody tr th {\n",
       "        vertical-align: top;\n",
       "    }\n",
       "\n",
       "    .dataframe thead th {\n",
       "        text-align: right;\n",
       "    }\n",
       "</style>\n",
       "<table border=\"1\" class=\"dataframe\">\n",
       "  <thead>\n",
       "    <tr style=\"text-align: right;\">\n",
       "      <th></th>\n",
       "      <th>NU_INSCRICAO</th>\n",
       "      <th>SG_UF_RESIDENCIA</th>\n",
       "      <th>NU_NOTA_OBJETIVA</th>\n",
       "      <th>NU_NOTA_COMP1</th>\n",
       "      <th>NU_NOTA_REDACAO</th>\n",
       "      <th>Q17</th>\n",
       "      <th>Q18</th>\n",
       "    </tr>\n",
       "  </thead>\n",
       "  <tbody>\n",
       "    <tr>\n",
       "      <th>0</th>\n",
       "      <td>200800000016</td>\n",
       "      <td>MG</td>\n",
       "      <td>58.73</td>\n",
       "      <td>37.5</td>\n",
       "      <td>37.5</td>\n",
       "      <td>B</td>\n",
       "      <td>B</td>\n",
       "    </tr>\n",
       "    <tr>\n",
       "      <th>1</th>\n",
       "      <td>200800000024</td>\n",
       "      <td>SC</td>\n",
       "      <td>58.73</td>\n",
       "      <td>75.0</td>\n",
       "      <td>55.0</td>\n",
       "      <td>G</td>\n",
       "      <td>H</td>\n",
       "    </tr>\n",
       "    <tr>\n",
       "      <th>2</th>\n",
       "      <td>200800000032</td>\n",
       "      <td>MG</td>\n",
       "      <td>0.00</td>\n",
       "      <td>0.0</td>\n",
       "      <td>0.0</td>\n",
       "      <td>NaN</td>\n",
       "      <td>NaN</td>\n",
       "    </tr>\n",
       "    <tr>\n",
       "      <th>3</th>\n",
       "      <td>200800000040</td>\n",
       "      <td>PI</td>\n",
       "      <td>65.08</td>\n",
       "      <td>87.5</td>\n",
       "      <td>72.5</td>\n",
       "      <td>C</td>\n",
       "      <td>C</td>\n",
       "    </tr>\n",
       "    <tr>\n",
       "      <th>4</th>\n",
       "      <td>200800000059</td>\n",
       "      <td>MG</td>\n",
       "      <td>31.75</td>\n",
       "      <td>75.0</td>\n",
       "      <td>67.5</td>\n",
       "      <td>B</td>\n",
       "      <td>B</td>\n",
       "    </tr>\n",
       "  </tbody>\n",
       "</table>\n",
       "</div>"
      ],
      "text/plain": [
       "   NU_INSCRICAO SG_UF_RESIDENCIA  NU_NOTA_OBJETIVA  NU_NOTA_COMP1  \\\n",
       "0  200800000016               MG             58.73           37.5   \n",
       "1  200800000024               SC             58.73           75.0   \n",
       "2  200800000032               MG              0.00            0.0   \n",
       "3  200800000040               PI             65.08           87.5   \n",
       "4  200800000059               MG             31.75           75.0   \n",
       "\n",
       "   NU_NOTA_REDACAO  Q17  Q18  \n",
       "0             37.5    B    B  \n",
       "1             55.0    G    H  \n",
       "2              0.0  NaN  NaN  \n",
       "3             72.5    C    C  \n",
       "4             67.5    B    B  "
      ]
     },
     "execution_count": 90,
     "metadata": {},
     "output_type": "execute_result"
    }
   ],
   "source": [
    "enem2018_colunas.head()"
   ]
  },
  {
   "cell_type": "code",
   "execution_count": 91,
   "metadata": {},
   "outputs": [
    {
     "data": {
      "text/plain": [
       "(4018070, 7)"
      ]
     },
     "execution_count": 91,
     "metadata": {},
     "output_type": "execute_result"
    }
   ],
   "source": [
    "enem2018_colunas.shape"
   ]
  },
  {
   "cell_type": "code",
   "execution_count": null,
   "metadata": {},
   "outputs": [],
   "source": []
  }
 ],
 "metadata": {
  "kernelspec": {
   "display_name": "Python 3",
   "language": "python",
   "name": "python3"
  },
  "language_info": {
   "codemirror_mode": {
    "name": "ipython",
    "version": 3
   },
   "file_extension": ".py",
   "mimetype": "text/x-python",
   "name": "python",
   "nbconvert_exporter": "python",
   "pygments_lexer": "ipython3",
   "version": "3.7.0"
  }
 },
 "nbformat": 4,
 "nbformat_minor": 2
}
